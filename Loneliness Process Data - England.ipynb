{
 "cells": [
  {
   "cell_type": "code",
   "execution_count": 1,
   "metadata": {},
   "outputs": [],
   "source": [
    "import zipfile as zp\n",
    "import pandas as pd\n",
    "#from pypac import PACSession as Session #or use requests below if non-ONS\n",
    "from requests import Session\n",
    "from io import BytesIO\n",
    "import os\n",
    "import matplotlib.pyplot as plt\n",
    "\n",
    "%matplotlib inline"
   ]
  },
  {
   "cell_type": "markdown",
   "metadata": {},
   "source": [
    "# Creating Summary Prescription Data for England\n",
    "\n",
    "This code has been created to work with 2016, 2017 and 2018 data, earlier data may have format inconsistencies that need to be dealt with."
   ]
  },
  {
   "cell_type": "markdown",
   "metadata": {},
   "source": [
    "# Set File Location of Prescribing Data\n",
    "\n",
    "These files are the \"GP practice prescribing data - Presentation level\" zip files that come from: https://data.gov.uk/dataset/176ae264-2484-4afe-a297-d51798eb8228/gp-practice-prescribing-data-presentation-level"
   ]
  },
  {
   "cell_type": "code",
   "execution_count": 2,
   "metadata": {},
   "outputs": [],
   "source": [
    "# Path to zip files\n",
    "# path = r\"[CHANGE THIS PATH]\\England\\\\\"\n",
    "path = r\"england\""
   ]
  },
  {
   "cell_type": "markdown",
   "metadata": {},
   "source": [
    "# Read in drug data"
   ]
  },
  {
   "cell_type": "code",
   "execution_count": 3,
   "metadata": {},
   "outputs": [],
   "source": [
    "# Get drug data (NB some drugs duplicated for illnesses)\n",
    "drug_data = pd.read_csv(path + r\"/drug_list.csv\")"
   ]
  },
  {
   "cell_type": "code",
   "execution_count": 4,
   "outputs": [
    {
     "data": {
      "text/plain": "                   illness     medication\n0               depression     fluoxetine\n1               depression     citalopram\n2               depression     paroxetine\n3               depression     sertraline\n4               depression     dapoxetine\n5               depression   escitalopram\n6               depression    fluvoxamine\n7               depression     duloxetine\n8               depression    venlafaxine\n9               depression    mirtazapine\n10              depression  amitriptyline\n11              depression   clomipramine\n12              depression     imipramine\n13              depression    lofepramine\n14              depression  nortriptyline\n15              alzheimers      donepezil\n16              alzheimers   rivastigmine\n17              alzheimers    galantamine\n18          blood pressure      enalapril\n19          blood pressure     lisinopril\n20          blood pressure    perindopril\n21          blood pressure       ramipril\n22          blood pressure    candesartan\n23          blood pressure     irbesartan\n24          blood pressure       losartan\n25          blood pressure      valsartan\n26          blood pressure     olmesartan\n27          blood pressure     amlodipine\n28          blood pressure     felodipine\n29          blood pressure     nifedipine\n30            hypertension     olmesartan\n31            hypertension      verapamil\n32            hypertension    perindopril\n33            hypertension       losartan\n34            hypertension     nifedipine\n35            hypertension      enalapril\n36            hypertension     candesarta\n37            hypertension     amlodipine\n38            hypertension     lisinopril\n39            hypertension     irbesartan\n40            hypertension     felodipine\n41            hypertension       ramipril\n42            hypertension      valsartan\n43            hypertension      diltiazem\n44               diabeties      metformin\n45  cardiovascular disease   atorvastatin\n46  cardiovascular disease    fluvastatin\n47  cardiovascular disease    pravastatin\n48  cardiovascular disease   rosuvastatin\n49  cardiovascular disease    simvastatin\n50                insomnia      zopiclone\n51               addiction      methadone\n52          social anxiety   escitalopram",
      "text/html": "<div>\n<style scoped>\n    .dataframe tbody tr th:only-of-type {\n        vertical-align: middle;\n    }\n\n    .dataframe tbody tr th {\n        vertical-align: top;\n    }\n\n    .dataframe thead th {\n        text-align: right;\n    }\n</style>\n<table border=\"1\" class=\"dataframe\">\n  <thead>\n    <tr style=\"text-align: right;\">\n      <th></th>\n      <th>illness</th>\n      <th>medication</th>\n    </tr>\n  </thead>\n  <tbody>\n    <tr>\n      <th>0</th>\n      <td>depression</td>\n      <td>fluoxetine</td>\n    </tr>\n    <tr>\n      <th>1</th>\n      <td>depression</td>\n      <td>citalopram</td>\n    </tr>\n    <tr>\n      <th>2</th>\n      <td>depression</td>\n      <td>paroxetine</td>\n    </tr>\n    <tr>\n      <th>3</th>\n      <td>depression</td>\n      <td>sertraline</td>\n    </tr>\n    <tr>\n      <th>4</th>\n      <td>depression</td>\n      <td>dapoxetine</td>\n    </tr>\n    <tr>\n      <th>5</th>\n      <td>depression</td>\n      <td>escitalopram</td>\n    </tr>\n    <tr>\n      <th>6</th>\n      <td>depression</td>\n      <td>fluvoxamine</td>\n    </tr>\n    <tr>\n      <th>7</th>\n      <td>depression</td>\n      <td>duloxetine</td>\n    </tr>\n    <tr>\n      <th>8</th>\n      <td>depression</td>\n      <td>venlafaxine</td>\n    </tr>\n    <tr>\n      <th>9</th>\n      <td>depression</td>\n      <td>mirtazapine</td>\n    </tr>\n    <tr>\n      <th>10</th>\n      <td>depression</td>\n      <td>amitriptyline</td>\n    </tr>\n    <tr>\n      <th>11</th>\n      <td>depression</td>\n      <td>clomipramine</td>\n    </tr>\n    <tr>\n      <th>12</th>\n      <td>depression</td>\n      <td>imipramine</td>\n    </tr>\n    <tr>\n      <th>13</th>\n      <td>depression</td>\n      <td>lofepramine</td>\n    </tr>\n    <tr>\n      <th>14</th>\n      <td>depression</td>\n      <td>nortriptyline</td>\n    </tr>\n    <tr>\n      <th>15</th>\n      <td>alzheimers</td>\n      <td>donepezil</td>\n    </tr>\n    <tr>\n      <th>16</th>\n      <td>alzheimers</td>\n      <td>rivastigmine</td>\n    </tr>\n    <tr>\n      <th>17</th>\n      <td>alzheimers</td>\n      <td>galantamine</td>\n    </tr>\n    <tr>\n      <th>18</th>\n      <td>blood pressure</td>\n      <td>enalapril</td>\n    </tr>\n    <tr>\n      <th>19</th>\n      <td>blood pressure</td>\n      <td>lisinopril</td>\n    </tr>\n    <tr>\n      <th>20</th>\n      <td>blood pressure</td>\n      <td>perindopril</td>\n    </tr>\n    <tr>\n      <th>21</th>\n      <td>blood pressure</td>\n      <td>ramipril</td>\n    </tr>\n    <tr>\n      <th>22</th>\n      <td>blood pressure</td>\n      <td>candesartan</td>\n    </tr>\n    <tr>\n      <th>23</th>\n      <td>blood pressure</td>\n      <td>irbesartan</td>\n    </tr>\n    <tr>\n      <th>24</th>\n      <td>blood pressure</td>\n      <td>losartan</td>\n    </tr>\n    <tr>\n      <th>25</th>\n      <td>blood pressure</td>\n      <td>valsartan</td>\n    </tr>\n    <tr>\n      <th>26</th>\n      <td>blood pressure</td>\n      <td>olmesartan</td>\n    </tr>\n    <tr>\n      <th>27</th>\n      <td>blood pressure</td>\n      <td>amlodipine</td>\n    </tr>\n    <tr>\n      <th>28</th>\n      <td>blood pressure</td>\n      <td>felodipine</td>\n    </tr>\n    <tr>\n      <th>29</th>\n      <td>blood pressure</td>\n      <td>nifedipine</td>\n    </tr>\n    <tr>\n      <th>30</th>\n      <td>hypertension</td>\n      <td>olmesartan</td>\n    </tr>\n    <tr>\n      <th>31</th>\n      <td>hypertension</td>\n      <td>verapamil</td>\n    </tr>\n    <tr>\n      <th>32</th>\n      <td>hypertension</td>\n      <td>perindopril</td>\n    </tr>\n    <tr>\n      <th>33</th>\n      <td>hypertension</td>\n      <td>losartan</td>\n    </tr>\n    <tr>\n      <th>34</th>\n      <td>hypertension</td>\n      <td>nifedipine</td>\n    </tr>\n    <tr>\n      <th>35</th>\n      <td>hypertension</td>\n      <td>enalapril</td>\n    </tr>\n    <tr>\n      <th>36</th>\n      <td>hypertension</td>\n      <td>candesarta</td>\n    </tr>\n    <tr>\n      <th>37</th>\n      <td>hypertension</td>\n      <td>amlodipine</td>\n    </tr>\n    <tr>\n      <th>38</th>\n      <td>hypertension</td>\n      <td>lisinopril</td>\n    </tr>\n    <tr>\n      <th>39</th>\n      <td>hypertension</td>\n      <td>irbesartan</td>\n    </tr>\n    <tr>\n      <th>40</th>\n      <td>hypertension</td>\n      <td>felodipine</td>\n    </tr>\n    <tr>\n      <th>41</th>\n      <td>hypertension</td>\n      <td>ramipril</td>\n    </tr>\n    <tr>\n      <th>42</th>\n      <td>hypertension</td>\n      <td>valsartan</td>\n    </tr>\n    <tr>\n      <th>43</th>\n      <td>hypertension</td>\n      <td>diltiazem</td>\n    </tr>\n    <tr>\n      <th>44</th>\n      <td>diabeties</td>\n      <td>metformin</td>\n    </tr>\n    <tr>\n      <th>45</th>\n      <td>cardiovascular disease</td>\n      <td>atorvastatin</td>\n    </tr>\n    <tr>\n      <th>46</th>\n      <td>cardiovascular disease</td>\n      <td>fluvastatin</td>\n    </tr>\n    <tr>\n      <th>47</th>\n      <td>cardiovascular disease</td>\n      <td>pravastatin</td>\n    </tr>\n    <tr>\n      <th>48</th>\n      <td>cardiovascular disease</td>\n      <td>rosuvastatin</td>\n    </tr>\n    <tr>\n      <th>49</th>\n      <td>cardiovascular disease</td>\n      <td>simvastatin</td>\n    </tr>\n    <tr>\n      <th>50</th>\n      <td>insomnia</td>\n      <td>zopiclone</td>\n    </tr>\n    <tr>\n      <th>51</th>\n      <td>addiction</td>\n      <td>methadone</td>\n    </tr>\n    <tr>\n      <th>52</th>\n      <td>social anxiety</td>\n      <td>escitalopram</td>\n    </tr>\n  </tbody>\n</table>\n</div>"
     },
     "execution_count": 4,
     "metadata": {},
     "output_type": "execute_result"
    }
   ],
   "source": [
    "drug_data"
   ],
   "metadata": {
    "collapsed": false,
    "pycharm": {
     "name": "#%%\n"
    }
   }
  },
  {
   "cell_type": "markdown",
   "metadata": {},
   "source": [
    "# Process Prescribing Data\n",
    "\n",
    "This code iterates over the monthly prescribing data, ultimately producing an aggregate table.\n",
    "\n",
    "Note, if you want to find prescribing for non-loneliness relatived diseases, all you need to do is provide a different set of drug_data and edit the code_loneliness function."
   ]
  },
  {
   "cell_type": "code",
   "execution_count": 5,
   "metadata": {},
   "outputs": [],
   "source": [
    "# Function to find loneliness related prescribing\n",
    "def code_loneliness(x):\n",
    "    out = {}\n",
    "    # coding by illness categories\n",
    "    for illness in drug_data['illness'].unique():\n",
    "        out[illness] = x['BNF NAME'].str.contains(\"|\".join(drug_data[drug_data['illness'] == illness]['medication']),\n",
    "                                                  case=False, \n",
    "                                                  regex=True).astype('int16')\n",
    "    # Make dataframe\n",
    "    out = pd.DataFrame(out)\n",
    "    # Add loneliness related disease binary - avoids double counting some drugs.\n",
    "    out['loneliness'] = x['BNF NAME'].str.contains(\"|\".join(drug_data['medication'].unique()),\n",
    "                                                   case = False, \n",
    "                                                   regex = True).astype('int16')\n",
    "    # Return dataframe multiplied by counts of items.\n",
    "    return out.multiply(x['ITEMS'], axis=0)"
   ]
  },
  {
   "cell_type": "code",
   "execution_count": 6,
   "metadata": {},
   "outputs": [],
   "source": [
    "# Make dictionary for aggregation\n",
    "agg_cols = {col : 'sum' for col in drug_data['illness'].unique()}\n",
    "agg_cols['ITEMS'] = 'sum'\n",
    "agg_cols['loneliness'] = 'sum'\n",
    "for key in ['Date','SHA','PCT','pcstrip','CenterName','Street','Town','Town2','Postcode']:\n",
    "    agg_cols[key] = 'first'"
   ]
  },
  {
   "cell_type": "code",
   "execution_count": 7,
   "metadata": {},
   "outputs": [
    {
     "name": "stderr",
     "output_type": "stream",
     "text": [
      "<ipython-input-7-206450546c85>:32: FutureWarning: The default value of regex will change from True to False in a future version.\n",
      "  prescribe['pcstrip'] = prescribe['Postcode'].str.replace(\"\\s\",\"\")\n"
     ]
    },
    {
     "name": "stdout",
     "output_type": "stream",
     "text": [
      "2015 02 Feb.zip\n",
      "2015 09 Sept.zip\n",
      "2015 06 Jun.zip\n",
      "2015 10 Oct.zip\n",
      "2015 07 Jul.zip\n",
      "2015 01 Jan.zip\n",
      "2015 04 Apr.zip\n",
      "2015 11 Nov.zip\n",
      "2015 05 May.zip\n",
      "2015 12 Dec.zip\n",
      "2015 08 Aug.zip\n",
      "2015 03 Mar.zip\n"
     ]
    }
   ],
   "source": [
    "monthly_data = []\n",
    "\n",
    "for file in os.listdir(path + '/zip'):\n",
    "    with zp.ZipFile(path + '/zip/' + file) as zipf:\n",
    "        zip_names = zipf.namelist()\n",
    "\n",
    "        # Deal with Address Files\n",
    "        addr_name = next((filename for filename in zip_names if \"ADDR\" in filename), None)\n",
    "        # Open address file in pandas, set header.\n",
    "        addr = pd.read_csv(zipf.open(addr_name), \n",
    "                           header=0, \n",
    "                           names = [\"Date\", \"PracCode\", \"PracName\",\"CenterName\",\n",
    "                                    \"Street\", \"Town\", \"Town2\", \"Postcode\"], \n",
    "                           usecols = range(8))\n",
    "\n",
    "        # Deal with prescription info\n",
    "        prescribe_name = next((filename for filename in zip_names if \"PDPI\" in filename), None)\n",
    "        # Open prescribing files in pandas.\n",
    "        prescribe = pd.read_csv(zipf.open(prescribe_name))\n",
    "        prescribe.columns = prescribe.columns.str.strip()\n",
    "        # Get counts of prescribing dataframe for loneliness related diseases\n",
    "        loneliness_prescribing = code_loneliness(prescribe[['BNF NAME','ITEMS']])\n",
    "        # merge dataframes\n",
    "        prescribe = prescribe.merge(loneliness_prescribing, left_index=True, right_index=True)\n",
    "        del loneliness_prescribing\n",
    "        \n",
    "        # merge in address information\n",
    "        prescribe = prescribe.merge(addr, left_on = 'PRACTICE', right_on = 'PracCode')\n",
    "        del addr\n",
    "        \n",
    "        # Create uniform postcode field\n",
    "        prescribe['pcstrip'] = prescribe['Postcode'].str.replace(\"\\s\",\"\")\n",
    "        \n",
    "        # get a summary - grouping by PracCode\n",
    "        summary = prescribe.groupby('PracCode', as_index=False).agg(agg_cols)\n",
    "        del prescribe\n",
    "        \n",
    "        monthly_data.append(summary)\n",
    "        print(file)"
   ]
  },
  {
   "cell_type": "code",
   "execution_count": 14,
   "metadata": {},
   "outputs": [],
   "source": [
    "# concatenate all the monthly data together.\n",
    "data = pd.concat(monthly_data, ignore_index = True)"
   ]
  },
  {
   "cell_type": "code",
   "execution_count": 15,
   "metadata": {},
   "outputs": [],
   "source": [
    "# Save aggregated data\n",
    "data.to_csv(path + \"/processed_data.csv\")"
   ]
  },
  {
   "cell_type": "markdown",
   "metadata": {},
   "source": [
    "# Add Postcode Location\n",
    "\n",
    "Postcode location is pulled in from the latest ONS NSPL (National Statistics Postcode Lookup). There is a guide to fields here: http://geoportal.statistics.gov.uk/datasets/0a404beab6f544be8fb72d0c2b12d62b\n",
    "\n",
    "NB - If using an ONS laptop `pip install pypac`, if not comment pypac import above and use requests."
   ]
  },
  {
   "cell_type": "code",
   "execution_count": 16,
   "metadata": {
    "collapsed": true
   },
   "outputs": [],
   "source": [
    "data = pd.read_csv(path + \"/processed_data.csv\", index_col=0)"
   ]
  },
  {
   "cell_type": "code",
   "execution_count": 18,
   "metadata": {},
   "outputs": [
    {
     "name": "stderr",
     "output_type": "stream",
     "text": [
      "/home/davide/anaconda3/envs/Loneliness_study/lib/python3.8/site-packages/urllib3/connectionpool.py:1013: InsecureRequestWarning: Unverified HTTPS request is being made to host 'geoportal.statistics.gov.uk'. Adding certificate verification is strongly advised. See: https://urllib3.readthedocs.io/en/latest/advanced-usage.html#ssl-warnings\n",
      "  warnings.warn(\n"
     ]
    }
   ],
   "source": [
    "# Read in postcode lookup data\n",
    "# This is the persistent link to the latest ONS NSPL\n",
    "postcode_url = \"http://geoportal.statistics.gov.uk/datasets/055c2d8135ca4297a85d624bb68aefdb_0.csv\"\n",
    "\n",
    "with Session() as session:\n",
    "    response = session.get(postcode_url, verify = False)\n",
    "\n",
    "field_dtypes = {'objectid': 'int32', 'pcd':'str', 'pcd2': 'str', 'pcds':'str', 'dointr':'str','doterm':'str',\n",
    "                'usertype':'int8','oseast1m': 'float', 'osnorth1m': 'float', 'osgrdind':'int8', 'lat':'float', \n",
    "                'long':'float', 'X':'float', 'Y':'float', 'imd': 'int8',\n",
    "                'oa11':'str', 'cty': 'str', 'ced':'str', 'laua': 'str', 'ward': 'str', 'hlthau':'str',\n",
    "                'ctry': 'str','pcon': 'str','eer': 'str','teclec': 'str','ttwa': 'str','pct': 'str','nuts': 'str',\n",
    "                'park': 'str','lsoa11': 'str','msoa11': 'str','wz11': 'str','ccg': 'str','bua11': 'str',\n",
    "                'buasd11': 'str','ru11ind': 'str','oac11': 'str','lep1': 'str','lep2': 'str','pfa': 'str',\n",
    "                'ced': 'str','nhser': 'str','rgn': 'str','calncv': 'str','stp': 'str'}\n",
    "\n",
    "#pc = pd.read_csv(BytesIO(response.content), dtype = field_dtypes)\n",
    "pc = pd.read_csv(path + '/NSPL_AUG_2018_UK.csv', dtype=field_dtypes)"
   ]
  },
  {
   "cell_type": "code",
   "execution_count": 19,
   "metadata": {},
   "outputs": [
    {
     "name": "stderr",
     "output_type": "stream",
     "text": [
      "<ipython-input-19-f8a74b782d6c>:2: FutureWarning: The default value of regex will change from True to False in a future version.\n",
      "  pc['pcstrip'] = pc['pcd'].str.replace(\"\\s\",\"\")\n"
     ]
    }
   ],
   "source": [
    "# create pcstrip for matching\n",
    "pc['pcstrip'] = pc['pcd'].str.replace(\"\\s\",\"\")"
   ]
  },
  {
   "cell_type": "markdown",
   "metadata": {},
   "source": [
    "NB - here I'm joining 2011 LSOA, 2011 MSOA, Rural-Urban Indicator, Region (formally GOR), Local Authority Area (effectively district), and IMD score (NB separate for each country). However, you can add any of the geography codes available in the NSPL."
   ]
  },
  {
   "cell_type": "code",
   "execution_count": 20,
   "metadata": {},
   "outputs": [],
   "source": [
    "data_temp = data.merge(pc[['pcstrip','oseast1m','osnrth1m','lsoa11','msoa11','ru11ind','rgn','laua','imd']], \n",
    "                       how = 'left',\n",
    "                       on = 'pcstrip')"
   ]
  },
  {
   "cell_type": "code",
   "execution_count": 21,
   "outputs": [
    {
     "data": {
      "text/plain": "       PracCode  depression  alzheimers  blood pressure  hypertension  \\\n0        A81002        1885          94            2725          2753   \n1        A81003         413          25             700           702   \n2        A81004         740          19             963           977   \n3        A81005         706          20            1399          1412   \n4        A81006        1506          44            1885          1910   \n...         ...         ...         ...             ...           ...   \n118857   Y04937          22           0               0             0   \n118858   Y04963           0           0               0             0   \n118859   Y04970           0           0               0             0   \n118860   Y04971           1           0               0             0   \n118861   Y04977         355           3             527           529   \n\n        diabeties  cardiovascular disease  insomnia  addiction  \\\n0             475                    1912        37          0   \n1             127                     562         5          0   \n2             188                     754       132          0   \n3             213                    1064        27          0   \n4             358                    1622        17          0   \n...           ...                     ...       ...        ...   \n118857          0                       0         6          0   \n118858          0                       0         0          0   \n118859          0                       0         0          0   \n118860          0                       0         1          0   \n118861         98                     312        24          0   \n\n        social anxiety  ...                      Town2  Postcode  oseast1m  \\\n0                   31  ...  CLEVELAND                  TS18 2AW  444458.0   \n1                    2  ...  CLEVELAND                  TS26 8DB  450539.0   \n2                   11  ...  CLEVELAND                  TS1 3BE   449732.0   \n3                   25  ...                             TS14 7DJ  461221.0   \n4                   15  ...  CLEVELAND                  TS18 2AT  444478.0   \n...                ...  ...                        ...       ...       ...   \n118857               1  ...  LANCASHIRE                 WN3 4NW   359363.0   \n118858               0  ...                             PE1 5DU   520005.0   \n118859               0  ...  LONDON                     E9 6SR    535570.0   \n118860               0  ...  KENT                       CT17 0HD  630445.0   \n118861               2  ...  NOTTINGHAMSHIRE            S80 4HA   452404.0   \n\n        osnrth1m     lsoa11     msoa11 ru11ind        rgn       laua    imd  \n0       519543.0  E01012267  E02002548      C1  E12000001  E06000004   39.0  \n1       532524.0  E01011999  E02002489      C1  E12000001  E06000001  -57.0  \n2       519892.0  E01012068  E02002496      C1  E12000001  E06000002  122.0  \n3       515668.0  E01012117  E02002532      C1  E12000001  E06000003  -86.0  \n4       519481.0  E01012267  E02002548      C1  E12000001  E06000004   39.0  \n...          ...        ...        ...     ...        ...        ...    ...  \n118857  404428.0  E01006309  E02001298      A1  E12000002  E08000010    1.0  \n118858  298983.0  E01015612  E02003250      C1  E12000006  E06000031   21.0  \n118859  185336.0  E01001729  E02000363      A1  E12000007  E09000012  113.0  \n118860  142130.0  E01024240  E02005051      C1  E12000008  E07000108   78.0  \n118861  374246.0  E01019498  E02004047      D1  E12000004  E07000033   38.0  \n\n[118862 rows x 29 columns]",
      "text/html": "<div>\n<style scoped>\n    .dataframe tbody tr th:only-of-type {\n        vertical-align: middle;\n    }\n\n    .dataframe tbody tr th {\n        vertical-align: top;\n    }\n\n    .dataframe thead th {\n        text-align: right;\n    }\n</style>\n<table border=\"1\" class=\"dataframe\">\n  <thead>\n    <tr style=\"text-align: right;\">\n      <th></th>\n      <th>PracCode</th>\n      <th>depression</th>\n      <th>alzheimers</th>\n      <th>blood pressure</th>\n      <th>hypertension</th>\n      <th>diabeties</th>\n      <th>cardiovascular disease</th>\n      <th>insomnia</th>\n      <th>addiction</th>\n      <th>social anxiety</th>\n      <th>...</th>\n      <th>Town2</th>\n      <th>Postcode</th>\n      <th>oseast1m</th>\n      <th>osnrth1m</th>\n      <th>lsoa11</th>\n      <th>msoa11</th>\n      <th>ru11ind</th>\n      <th>rgn</th>\n      <th>laua</th>\n      <th>imd</th>\n    </tr>\n  </thead>\n  <tbody>\n    <tr>\n      <th>0</th>\n      <td>A81002</td>\n      <td>1885</td>\n      <td>94</td>\n      <td>2725</td>\n      <td>2753</td>\n      <td>475</td>\n      <td>1912</td>\n      <td>37</td>\n      <td>0</td>\n      <td>31</td>\n      <td>...</td>\n      <td>CLEVELAND</td>\n      <td>TS18 2AW</td>\n      <td>444458.0</td>\n      <td>519543.0</td>\n      <td>E01012267</td>\n      <td>E02002548</td>\n      <td>C1</td>\n      <td>E12000001</td>\n      <td>E06000004</td>\n      <td>39.0</td>\n    </tr>\n    <tr>\n      <th>1</th>\n      <td>A81003</td>\n      <td>413</td>\n      <td>25</td>\n      <td>700</td>\n      <td>702</td>\n      <td>127</td>\n      <td>562</td>\n      <td>5</td>\n      <td>0</td>\n      <td>2</td>\n      <td>...</td>\n      <td>CLEVELAND</td>\n      <td>TS26 8DB</td>\n      <td>450539.0</td>\n      <td>532524.0</td>\n      <td>E01011999</td>\n      <td>E02002489</td>\n      <td>C1</td>\n      <td>E12000001</td>\n      <td>E06000001</td>\n      <td>-57.0</td>\n    </tr>\n    <tr>\n      <th>2</th>\n      <td>A81004</td>\n      <td>740</td>\n      <td>19</td>\n      <td>963</td>\n      <td>977</td>\n      <td>188</td>\n      <td>754</td>\n      <td>132</td>\n      <td>0</td>\n      <td>11</td>\n      <td>...</td>\n      <td>CLEVELAND</td>\n      <td>TS1 3BE</td>\n      <td>449732.0</td>\n      <td>519892.0</td>\n      <td>E01012068</td>\n      <td>E02002496</td>\n      <td>C1</td>\n      <td>E12000001</td>\n      <td>E06000002</td>\n      <td>122.0</td>\n    </tr>\n    <tr>\n      <th>3</th>\n      <td>A81005</td>\n      <td>706</td>\n      <td>20</td>\n      <td>1399</td>\n      <td>1412</td>\n      <td>213</td>\n      <td>1064</td>\n      <td>27</td>\n      <td>0</td>\n      <td>25</td>\n      <td>...</td>\n      <td></td>\n      <td>TS14 7DJ</td>\n      <td>461221.0</td>\n      <td>515668.0</td>\n      <td>E01012117</td>\n      <td>E02002532</td>\n      <td>C1</td>\n      <td>E12000001</td>\n      <td>E06000003</td>\n      <td>-86.0</td>\n    </tr>\n    <tr>\n      <th>4</th>\n      <td>A81006</td>\n      <td>1506</td>\n      <td>44</td>\n      <td>1885</td>\n      <td>1910</td>\n      <td>358</td>\n      <td>1622</td>\n      <td>17</td>\n      <td>0</td>\n      <td>15</td>\n      <td>...</td>\n      <td>CLEVELAND</td>\n      <td>TS18 2AT</td>\n      <td>444478.0</td>\n      <td>519481.0</td>\n      <td>E01012267</td>\n      <td>E02002548</td>\n      <td>C1</td>\n      <td>E12000001</td>\n      <td>E06000004</td>\n      <td>39.0</td>\n    </tr>\n    <tr>\n      <th>...</th>\n      <td>...</td>\n      <td>...</td>\n      <td>...</td>\n      <td>...</td>\n      <td>...</td>\n      <td>...</td>\n      <td>...</td>\n      <td>...</td>\n      <td>...</td>\n      <td>...</td>\n      <td>...</td>\n      <td>...</td>\n      <td>...</td>\n      <td>...</td>\n      <td>...</td>\n      <td>...</td>\n      <td>...</td>\n      <td>...</td>\n      <td>...</td>\n      <td>...</td>\n      <td>...</td>\n    </tr>\n    <tr>\n      <th>118857</th>\n      <td>Y04937</td>\n      <td>22</td>\n      <td>0</td>\n      <td>0</td>\n      <td>0</td>\n      <td>0</td>\n      <td>0</td>\n      <td>6</td>\n      <td>0</td>\n      <td>1</td>\n      <td>...</td>\n      <td>LANCASHIRE</td>\n      <td>WN3 4NW</td>\n      <td>359363.0</td>\n      <td>404428.0</td>\n      <td>E01006309</td>\n      <td>E02001298</td>\n      <td>A1</td>\n      <td>E12000002</td>\n      <td>E08000010</td>\n      <td>1.0</td>\n    </tr>\n    <tr>\n      <th>118858</th>\n      <td>Y04963</td>\n      <td>0</td>\n      <td>0</td>\n      <td>0</td>\n      <td>0</td>\n      <td>0</td>\n      <td>0</td>\n      <td>0</td>\n      <td>0</td>\n      <td>0</td>\n      <td>...</td>\n      <td></td>\n      <td>PE1 5DU</td>\n      <td>520005.0</td>\n      <td>298983.0</td>\n      <td>E01015612</td>\n      <td>E02003250</td>\n      <td>C1</td>\n      <td>E12000006</td>\n      <td>E06000031</td>\n      <td>21.0</td>\n    </tr>\n    <tr>\n      <th>118859</th>\n      <td>Y04970</td>\n      <td>0</td>\n      <td>0</td>\n      <td>0</td>\n      <td>0</td>\n      <td>0</td>\n      <td>0</td>\n      <td>0</td>\n      <td>0</td>\n      <td>0</td>\n      <td>...</td>\n      <td>LONDON</td>\n      <td>E9 6SR</td>\n      <td>535570.0</td>\n      <td>185336.0</td>\n      <td>E01001729</td>\n      <td>E02000363</td>\n      <td>A1</td>\n      <td>E12000007</td>\n      <td>E09000012</td>\n      <td>113.0</td>\n    </tr>\n    <tr>\n      <th>118860</th>\n      <td>Y04971</td>\n      <td>1</td>\n      <td>0</td>\n      <td>0</td>\n      <td>0</td>\n      <td>0</td>\n      <td>0</td>\n      <td>1</td>\n      <td>0</td>\n      <td>0</td>\n      <td>...</td>\n      <td>KENT</td>\n      <td>CT17 0HD</td>\n      <td>630445.0</td>\n      <td>142130.0</td>\n      <td>E01024240</td>\n      <td>E02005051</td>\n      <td>C1</td>\n      <td>E12000008</td>\n      <td>E07000108</td>\n      <td>78.0</td>\n    </tr>\n    <tr>\n      <th>118861</th>\n      <td>Y04977</td>\n      <td>355</td>\n      <td>3</td>\n      <td>527</td>\n      <td>529</td>\n      <td>98</td>\n      <td>312</td>\n      <td>24</td>\n      <td>0</td>\n      <td>2</td>\n      <td>...</td>\n      <td>NOTTINGHAMSHIRE</td>\n      <td>S80 4HA</td>\n      <td>452404.0</td>\n      <td>374246.0</td>\n      <td>E01019498</td>\n      <td>E02004047</td>\n      <td>D1</td>\n      <td>E12000004</td>\n      <td>E07000033</td>\n      <td>38.0</td>\n    </tr>\n  </tbody>\n</table>\n<p>118862 rows × 29 columns</p>\n</div>"
     },
     "execution_count": 21,
     "metadata": {},
     "output_type": "execute_result"
    }
   ],
   "source": [
    "data_temp"
   ],
   "metadata": {
    "collapsed": false,
    "pycharm": {
     "name": "#%%\n"
    }
   }
  },
  {
   "cell_type": "code",
   "execution_count": 22,
   "metadata": {},
   "outputs": [
    {
     "data": {
      "text/plain": "DN18QN     12\nDL154SB    12\nWR59QT     12\nCV115PO    12\nYO302JS    12\nHU32AE     12\nY084ET     11\nTW152EA    11\nMK67JJ     11\nHA24ES     11\nGL10QD     10\nE113JT      9\nME122TZ     7\nBS378NG     7\nBD106JE     6\nDN156QV     4\nLA284BY     4\nName: pcstrip, dtype: int64"
     },
     "execution_count": 22,
     "metadata": {},
     "output_type": "execute_result"
    }
   ],
   "source": [
    "# Check for missing postcodes\n",
    "data_temp[data_temp['oseast1m'].isnull()]['pcstrip'].value_counts()"
   ]
  },
  {
   "cell_type": "code",
   "execution_count": 23,
   "metadata": {},
   "outputs": [],
   "source": [
    "# Clean Missing Postcodes - appear to be typos.\n",
    "new_pcs = {'DL154SB': 'DL54SB', 'WR59QT':'WR52QT', 'DN18QN':'DN48QN', 'HU32AE':'HU34AE','GL10QD': 'GL13NN',\n",
    "           'ME122TZ':'ME102TZ', 'BS378NG':'BS374NG', 'CV115PO':'CV115PQ', 'TW152EA':'TW153EA', 'EN24EJ':'EN80BX', \n",
    "           'YO302JS':'YO306JA','L62UN':'L67UN', 'NG698DB':'NG98DA', 'HA24ES':'HA14ES'}\n",
    "\n",
    "data['pcstrip'] = data['pcstrip'].map(new_pcs).fillna(data['pcstrip'])"
   ]
  },
  {
   "cell_type": "code",
   "execution_count": 24,
   "metadata": {},
   "outputs": [],
   "source": [
    "# Merge data\n",
    "data = data.merge(pc[['pcstrip','oseast1m','osnrth1m','lsoa11','msoa11','ru11ind','rgn','laua','imd']], \n",
    "                  how = 'left', \n",
    "                  on = 'pcstrip')"
   ]
  },
  {
   "cell_type": "code",
   "execution_count": 25,
   "metadata": {},
   "outputs": [],
   "source": [
    "# Save aggregated data\n",
    "data.to_csv(path + \"/processed_data_with_postcodes.csv\")"
   ]
  },
  {
   "cell_type": "markdown",
   "metadata": {},
   "source": [
    "## Check Postcodes \n",
    "\n",
    "Some Practice Codes have more than one postcode associated with them. Possible reasons for this are:\n",
    "* Practices move to a new location.\n",
    "* Practices are assigned a new postcode but don't physically move.\n",
    "* Practice postcodes are wrongly entered at a particular wave and subsequently fixed.\n",
    "\n",
    "There are 794 practices codes which have more than 1 postcode assigned to them, this is about 7% of unique practices.\n",
    "\n",
    "764 for those practices have 2 postcodes associated with them, while 30 have 3 postcodes.\n",
    "\n",
    "102 of these practices fall within the same LSOA, 669 fall within 2 different LSOAs, and 30 within 3 different LSOAs.\n",
    "\n",
    "We'll ignore this for now - this will require some more advanced cleaning - useful to be aware of though."
   ]
  },
  {
   "cell_type": "code",
   "execution_count": 58,
   "metadata": {},
   "outputs": [
    {
     "data": {
      "text/plain": "238"
     },
     "execution_count": 58,
     "metadata": {},
     "output_type": "execute_result"
    }
   ],
   "source": [
    "data = pd.read_csv(path + '/processed_data_with_postcodes.csv')\n",
    "# Check for 1 postcode per Practice Code\n",
    "pc_prac_counts = data.groupby('PracCode')['pcstrip'].unique().map(len)\n",
    "# 794 practices have more than 1 postcode associated with it.\n",
    "pc_prac_counts[pc_prac_counts > 1].count()"
   ]
  },
  {
   "cell_type": "code",
   "execution_count": 59,
   "metadata": {},
   "outputs": [
    {
     "data": {
      "text/plain": "0.022508038585209004"
     },
     "execution_count": 59,
     "metadata": {},
     "output_type": "execute_result"
    }
   ],
   "source": [
    "# Practice codes with multiple associated postcodes account forc. 7% of the data\n",
    "pc_prac_counts[pc_prac_counts > 1].count()/len(pc_prac_counts)"
   ]
  },
  {
   "cell_type": "code",
   "execution_count": 60,
   "metadata": {},
   "outputs": [
    {
     "data": {
      "text/plain": "2    235\n3      3\nName: pcstrip, dtype: int64"
     },
     "execution_count": 60,
     "metadata": {},
     "output_type": "execute_result"
    }
   ],
   "source": [
    "pc_prac_counts[pc_prac_counts > 1].value_counts()"
   ]
  },
  {
   "cell_type": "code",
   "execution_count": 61,
   "metadata": {},
   "outputs": [
    {
     "data": {
      "text/plain": "2    201\n1     35\n3      2\nName: lsoa11, dtype: int64"
     },
     "execution_count": 61,
     "metadata": {},
     "output_type": "execute_result"
    }
   ],
   "source": [
    "# Count of these Practices falling within the same LSOA\n",
    "(data[data['PracCode'].isin(pc_prac_counts[pc_prac_counts > 1].index)]\n",
    " .groupby('PracCode')['lsoa11']\n",
    " .unique()\n",
    " .map(len)\n",
    " .value_counts())"
   ]
  },
  {
   "cell_type": "markdown",
   "metadata": {},
   "source": [
    "# Subsetting the Data\n",
    "\n",
    "## Use only General Practice surgeries\n",
    "\n",
    "Use the 'Patients Registered at a GP Practice' data from: to get GP surgery codes and subset the data."
   ]
  },
  {
   "cell_type": "code",
   "execution_count": 62,
   "metadata": {},
   "outputs": [],
   "source": [
    "data = pd.read_csv(path + \"/processed_data_with_postcodes.csv\", index_col = 0)"
   ]
  },
  {
   "cell_type": "code",
   "execution_count": 63,
   "metadata": {},
   "outputs": [],
   "source": [
    "# Get GP files\n",
    "# gp_path = r\"[CHANGE THIS PATH]\\England\\GP data\\\\\"\n",
    "gp_path = r\"england/GP data/\""
   ]
  },
  {
   "cell_type": "code",
   "execution_count": 64,
   "metadata": {},
   "outputs": [
    {
     "name": "stdout",
     "output_type": "stream",
     "text": [
      "gp-reg-pat-prac-all-dec-15.csv\n",
      "gp-reg-pat-prac-all-jun-15.csv\n",
      "gp-reg-pat-prac-all-mar-15.csv\n",
      "gp-reg-pat-prac-all-sep-15.csv\n",
      "gp-reg-pat-prac-all-oct-15.csv\n",
      "gp-reg-pat-prac-all-nov-15.csv\n",
      "gp-reg-pat-prac-all-jan-15.csv\n",
      "gp-reg-pat-prac-all-jul-15.csv\n",
      "gp-reg-pat-prac-all-may-15.csv\n",
      "gp-reg-pat-prac-all-feb-15.csv\n",
      "gp-reg-pat-prac-all-aug-15.csv\n",
      "gp-reg-pat-prac-all-apr-15.csv\n"
     ]
    }
   ],
   "source": [
    "gp_combine = []\n",
    "\n",
    "for file in os.listdir(gp_path):\n",
    "    # read file into pandas\n",
    "    month, year = file[-10:-4].split(\"-\")\n",
    "    \n",
    "    # Deal with different file structures\n",
    "    if (year == '15') or (year == '17' and month == 'jan'):\n",
    "        gp_data = pd.read_csv(gp_path + file)\n",
    "        gp_data['DATE'] = \"01\" + month.upper() + \"20\" + year\n",
    "        gp_data.columns = gp_data.columns.str.upper()\n",
    "        gp_data = gp_data.rename(columns = {'DATE':'Date','GP_PRACTICE_CODE':'PracCode','TOTAL_ALL':'NUMBER_OF_PATIENTS'})\n",
    "        gp_combine.append(gp_data[['Date','PracCode','POSTCODE','NUMBER_OF_PATIENTS']])\n",
    "    else:\n",
    "        gp_data = pd.read_csv(gp_path + file)\n",
    "        gp_data.columns = gp_data.columns.str.upper().str.replace(\" \",\"_\")\n",
    "        gp_data = gp_data.rename(columns = {'EXTRACT_DATE':'Date', 'CODE':'PracCode'})\n",
    "        if year == '17' and month == 'jun':\n",
    "            gp_data['Date'] = \"01\" + month.upper() + \"20\" + year\n",
    "        gp_combine.append(gp_data[['Date','PracCode','POSTCODE','NUMBER_OF_PATIENTS']])\n",
    "    print(file)"
   ]
  },
  {
   "cell_type": "code",
   "execution_count": 65,
   "metadata": {},
   "outputs": [],
   "source": [
    "# concatenate all the gp data together.\n",
    "gp_data = pd.concat(gp_combine, ignore_index = True)"
   ]
  },
  {
   "cell_type": "code",
   "execution_count": 66,
   "metadata": {},
   "outputs": [
    {
     "data": {
      "text/plain": "(93607, 29)"
     },
     "execution_count": 66,
     "metadata": {},
     "output_type": "execute_result"
    }
   ],
   "source": [
    "# Get the unique codes for GP surgeries and subset the prescribing data according to these codes.\n",
    "gp_ids = gp_data['PracCode'].unique()\n",
    "data = data[data['PracCode'].isin(gp_ids)].copy()\n",
    "data.shape"
   ]
  },
  {
   "cell_type": "code",
   "execution_count": 67,
   "metadata": {},
   "outputs": [],
   "source": [
    "# Make date a datetime variable\n",
    "gp_data['Date'] = pd.to_datetime(gp_data['Date'], format = '%d%b%Y')"
   ]
  },
  {
   "cell_type": "code",
   "execution_count": 68,
   "metadata": {},
   "outputs": [],
   "source": [
    "# Make date a datetime variable - days are assigned as first day of the month.\n",
    "data['Date'] = pd.to_datetime(data['Date'], format = '%Y%m')"
   ]
  },
  {
   "cell_type": "code",
   "execution_count": 69,
   "metadata": {},
   "outputs": [
    {
     "data": {
      "text/plain": "        Date PracCode  POSTCODE  NUMBER_OF_PATIENTS\n1 2015-12-01   A81002  TS18 2AW               19667\n2 2015-12-01   A81003  TS26 8DB                3379\n3 2015-12-01   A81004   TS1 3BE                9090\n4 2015-12-01   A81005  TS14 7DJ                7896\n5 2015-12-01   A81006  TS18 2AT               12283\n6 2015-12-01   A81007  TS24 7PW                9720\n7 2015-12-01   A81008   TS6 6TD                4045\n8 2015-12-01   A81009   TS5 6HF                9207\n9 2015-12-01   A81011  TS24 7PW               11371",
      "text/html": "<div>\n<style scoped>\n    .dataframe tbody tr th:only-of-type {\n        vertical-align: middle;\n    }\n\n    .dataframe tbody tr th {\n        vertical-align: top;\n    }\n\n    .dataframe thead th {\n        text-align: right;\n    }\n</style>\n<table border=\"1\" class=\"dataframe\">\n  <thead>\n    <tr style=\"text-align: right;\">\n      <th></th>\n      <th>Date</th>\n      <th>PracCode</th>\n      <th>POSTCODE</th>\n      <th>NUMBER_OF_PATIENTS</th>\n    </tr>\n  </thead>\n  <tbody>\n    <tr>\n      <th>1</th>\n      <td>2015-12-01</td>\n      <td>A81002</td>\n      <td>TS18 2AW</td>\n      <td>19667</td>\n    </tr>\n    <tr>\n      <th>2</th>\n      <td>2015-12-01</td>\n      <td>A81003</td>\n      <td>TS26 8DB</td>\n      <td>3379</td>\n    </tr>\n    <tr>\n      <th>3</th>\n      <td>2015-12-01</td>\n      <td>A81004</td>\n      <td>TS1 3BE</td>\n      <td>9090</td>\n    </tr>\n    <tr>\n      <th>4</th>\n      <td>2015-12-01</td>\n      <td>A81005</td>\n      <td>TS14 7DJ</td>\n      <td>7896</td>\n    </tr>\n    <tr>\n      <th>5</th>\n      <td>2015-12-01</td>\n      <td>A81006</td>\n      <td>TS18 2AT</td>\n      <td>12283</td>\n    </tr>\n    <tr>\n      <th>6</th>\n      <td>2015-12-01</td>\n      <td>A81007</td>\n      <td>TS24 7PW</td>\n      <td>9720</td>\n    </tr>\n    <tr>\n      <th>7</th>\n      <td>2015-12-01</td>\n      <td>A81008</td>\n      <td>TS6 6TD</td>\n      <td>4045</td>\n    </tr>\n    <tr>\n      <th>8</th>\n      <td>2015-12-01</td>\n      <td>A81009</td>\n      <td>TS5 6HF</td>\n      <td>9207</td>\n    </tr>\n    <tr>\n      <th>9</th>\n      <td>2015-12-01</td>\n      <td>A81011</td>\n      <td>TS24 7PW</td>\n      <td>11371</td>\n    </tr>\n  </tbody>\n</table>\n</div>"
     },
     "execution_count": 69,
     "metadata": {},
     "output_type": "execute_result"
    }
   ],
   "source": [
    "gp_data[1:10]"
   ]
  },
  {
   "cell_type": "code",
   "execution_count": 70,
   "metadata": {},
   "outputs": [
    {
     "data": {
      "text/plain": "  PracCode  depression  alzheimers  blood pressure  hypertension  diabeties  \\\n1   A81003         413          25             700           702        127   \n2   A81004         740          19             963           977        188   \n3   A81005         706          20            1399          1412        213   \n4   A81006        1506          44            1885          1910        358   \n5   A81007         943          33            1049          1084        176   \n6   A81008         517           8             971           991        145   \n7   A81009        1137          35            1434          1455        298   \n8   A81011        1279          35            1471          1485        220   \n9   A81012         734          13             788           795        178   \n\n   cardiovascular disease  insomnia  addiction  social anxiety  ...  \\\n1                     562         5          0               2  ...   \n2                     754       132          0              11  ...   \n3                    1064        27          0              25  ...   \n4                    1622        17          0              15  ...   \n5                     835         2          0               3  ...   \n6                     850       157          0               0  ...   \n7                    1017        77          0               4  ...   \n8                    1082        30          0               9  ...   \n9                     571        21          0              12  ...   \n\n                       Town2  Postcode  oseast1m  osnrth1m     lsoa11  \\\n1  CLEVELAND                  TS26 8DB  450539.0  532524.0  E01011999   \n2  CLEVELAND                  TS1 3BE   449732.0  519892.0  E01012068   \n3                             TS14 7DJ  461221.0  515668.0  E01012117   \n4  CLEVELAND                  TS18 2AT  444478.0  519481.0  E01012267   \n5  CLEVELAND                  TS24 7PW  450765.0  532203.0  E01011999   \n6  CLEVELAND                  TS6 6TD   453885.0  519863.0  E01033470   \n7  CLEVELAND                  TS5 6HF   449131.0  518827.0  E01012078   \n8  CLEVELAND                  TS24 7PW  450765.0  532203.0  E01011999   \n9                             TS3 6AL   450757.0  519893.0  E01012059   \n\n      msoa11 ru11ind        rgn       laua    imd  \n1  E02002489      C1  E12000001  E06000001  -57.0  \n2  E02002496      C1  E12000001  E06000002  122.0  \n3  E02002532      C1  E12000001  E06000003  -86.0  \n4  E02002548      C1  E12000001  E06000004   39.0  \n5  E02002489      C1  E12000001  E06000001  -57.0  \n6  E02006910      C1  E12000001  E06000003 -104.0  \n7  E02002500      C1  E12000001  E06000002  107.0  \n8  E02002489      C1  E12000001  E06000001  -57.0  \n9  E02002497      C1  E12000001  E06000002   59.0  \n\n[9 rows x 29 columns]",
      "text/html": "<div>\n<style scoped>\n    .dataframe tbody tr th:only-of-type {\n        vertical-align: middle;\n    }\n\n    .dataframe tbody tr th {\n        vertical-align: top;\n    }\n\n    .dataframe thead th {\n        text-align: right;\n    }\n</style>\n<table border=\"1\" class=\"dataframe\">\n  <thead>\n    <tr style=\"text-align: right;\">\n      <th></th>\n      <th>PracCode</th>\n      <th>depression</th>\n      <th>alzheimers</th>\n      <th>blood pressure</th>\n      <th>hypertension</th>\n      <th>diabeties</th>\n      <th>cardiovascular disease</th>\n      <th>insomnia</th>\n      <th>addiction</th>\n      <th>social anxiety</th>\n      <th>...</th>\n      <th>Town2</th>\n      <th>Postcode</th>\n      <th>oseast1m</th>\n      <th>osnrth1m</th>\n      <th>lsoa11</th>\n      <th>msoa11</th>\n      <th>ru11ind</th>\n      <th>rgn</th>\n      <th>laua</th>\n      <th>imd</th>\n    </tr>\n  </thead>\n  <tbody>\n    <tr>\n      <th>1</th>\n      <td>A81003</td>\n      <td>413</td>\n      <td>25</td>\n      <td>700</td>\n      <td>702</td>\n      <td>127</td>\n      <td>562</td>\n      <td>5</td>\n      <td>0</td>\n      <td>2</td>\n      <td>...</td>\n      <td>CLEVELAND</td>\n      <td>TS26 8DB</td>\n      <td>450539.0</td>\n      <td>532524.0</td>\n      <td>E01011999</td>\n      <td>E02002489</td>\n      <td>C1</td>\n      <td>E12000001</td>\n      <td>E06000001</td>\n      <td>-57.0</td>\n    </tr>\n    <tr>\n      <th>2</th>\n      <td>A81004</td>\n      <td>740</td>\n      <td>19</td>\n      <td>963</td>\n      <td>977</td>\n      <td>188</td>\n      <td>754</td>\n      <td>132</td>\n      <td>0</td>\n      <td>11</td>\n      <td>...</td>\n      <td>CLEVELAND</td>\n      <td>TS1 3BE</td>\n      <td>449732.0</td>\n      <td>519892.0</td>\n      <td>E01012068</td>\n      <td>E02002496</td>\n      <td>C1</td>\n      <td>E12000001</td>\n      <td>E06000002</td>\n      <td>122.0</td>\n    </tr>\n    <tr>\n      <th>3</th>\n      <td>A81005</td>\n      <td>706</td>\n      <td>20</td>\n      <td>1399</td>\n      <td>1412</td>\n      <td>213</td>\n      <td>1064</td>\n      <td>27</td>\n      <td>0</td>\n      <td>25</td>\n      <td>...</td>\n      <td></td>\n      <td>TS14 7DJ</td>\n      <td>461221.0</td>\n      <td>515668.0</td>\n      <td>E01012117</td>\n      <td>E02002532</td>\n      <td>C1</td>\n      <td>E12000001</td>\n      <td>E06000003</td>\n      <td>-86.0</td>\n    </tr>\n    <tr>\n      <th>4</th>\n      <td>A81006</td>\n      <td>1506</td>\n      <td>44</td>\n      <td>1885</td>\n      <td>1910</td>\n      <td>358</td>\n      <td>1622</td>\n      <td>17</td>\n      <td>0</td>\n      <td>15</td>\n      <td>...</td>\n      <td>CLEVELAND</td>\n      <td>TS18 2AT</td>\n      <td>444478.0</td>\n      <td>519481.0</td>\n      <td>E01012267</td>\n      <td>E02002548</td>\n      <td>C1</td>\n      <td>E12000001</td>\n      <td>E06000004</td>\n      <td>39.0</td>\n    </tr>\n    <tr>\n      <th>5</th>\n      <td>A81007</td>\n      <td>943</td>\n      <td>33</td>\n      <td>1049</td>\n      <td>1084</td>\n      <td>176</td>\n      <td>835</td>\n      <td>2</td>\n      <td>0</td>\n      <td>3</td>\n      <td>...</td>\n      <td>CLEVELAND</td>\n      <td>TS24 7PW</td>\n      <td>450765.0</td>\n      <td>532203.0</td>\n      <td>E01011999</td>\n      <td>E02002489</td>\n      <td>C1</td>\n      <td>E12000001</td>\n      <td>E06000001</td>\n      <td>-57.0</td>\n    </tr>\n    <tr>\n      <th>6</th>\n      <td>A81008</td>\n      <td>517</td>\n      <td>8</td>\n      <td>971</td>\n      <td>991</td>\n      <td>145</td>\n      <td>850</td>\n      <td>157</td>\n      <td>0</td>\n      <td>0</td>\n      <td>...</td>\n      <td>CLEVELAND</td>\n      <td>TS6 6TD</td>\n      <td>453885.0</td>\n      <td>519863.0</td>\n      <td>E01033470</td>\n      <td>E02006910</td>\n      <td>C1</td>\n      <td>E12000001</td>\n      <td>E06000003</td>\n      <td>-104.0</td>\n    </tr>\n    <tr>\n      <th>7</th>\n      <td>A81009</td>\n      <td>1137</td>\n      <td>35</td>\n      <td>1434</td>\n      <td>1455</td>\n      <td>298</td>\n      <td>1017</td>\n      <td>77</td>\n      <td>0</td>\n      <td>4</td>\n      <td>...</td>\n      <td>CLEVELAND</td>\n      <td>TS5 6HF</td>\n      <td>449131.0</td>\n      <td>518827.0</td>\n      <td>E01012078</td>\n      <td>E02002500</td>\n      <td>C1</td>\n      <td>E12000001</td>\n      <td>E06000002</td>\n      <td>107.0</td>\n    </tr>\n    <tr>\n      <th>8</th>\n      <td>A81011</td>\n      <td>1279</td>\n      <td>35</td>\n      <td>1471</td>\n      <td>1485</td>\n      <td>220</td>\n      <td>1082</td>\n      <td>30</td>\n      <td>0</td>\n      <td>9</td>\n      <td>...</td>\n      <td>CLEVELAND</td>\n      <td>TS24 7PW</td>\n      <td>450765.0</td>\n      <td>532203.0</td>\n      <td>E01011999</td>\n      <td>E02002489</td>\n      <td>C1</td>\n      <td>E12000001</td>\n      <td>E06000001</td>\n      <td>-57.0</td>\n    </tr>\n    <tr>\n      <th>9</th>\n      <td>A81012</td>\n      <td>734</td>\n      <td>13</td>\n      <td>788</td>\n      <td>795</td>\n      <td>178</td>\n      <td>571</td>\n      <td>21</td>\n      <td>0</td>\n      <td>12</td>\n      <td>...</td>\n      <td></td>\n      <td>TS3 6AL</td>\n      <td>450757.0</td>\n      <td>519893.0</td>\n      <td>E01012059</td>\n      <td>E02002497</td>\n      <td>C1</td>\n      <td>E12000001</td>\n      <td>E06000002</td>\n      <td>59.0</td>\n    </tr>\n  </tbody>\n</table>\n<p>9 rows × 29 columns</p>\n</div>"
     },
     "execution_count": 70,
     "metadata": {},
     "output_type": "execute_result"
    }
   ],
   "source": [
    "data[1:10]"
   ]
  },
  {
   "cell_type": "code",
   "execution_count": 71,
   "metadata": {},
   "outputs": [],
   "source": [
    "# Merge on the basis of date and PracCode - produces some nulls for counts.\n",
    "# It may be possible to predict missing values using a time-series model.\n",
    "data = data.merge(gp_data, how = 'left', on = ['Date','PracCode'])\n",
    "# data = data.merge(gp_data, how = 'left', on = ['PracCode'])"
   ]
  },
  {
   "cell_type": "code",
   "execution_count": 72,
   "metadata": {},
   "outputs": [],
   "source": [
    "# Save aggregated data\n",
    "data.to_csv(path + \"/processed_data_with_postcodes_GPs.csv\")"
   ]
  },
  {
   "cell_type": "markdown",
   "metadata": {},
   "source": [
    "# Generate Statistics from Prescribing Counts\n",
    "\n",
    "## Percentages At Postcode Level\n",
    "\n",
    "Aggregate observations to postcodes and compute percentages for 'depression', 'alzheimers', 'blood pressure', 'hypertension', 'diabetes', 'cardiovascular disease', 'insomnia', 'addiction', 'social anxiety', and 'loneliness'.\n",
    "\n",
    "## Outlier Removal\n",
    "\n",
    "Should we remove some GPs on the basis that they have very low/high values which might indicate they are not accessible to the general population, and instead represent specialist services?\n",
    "\n",
    "Currently, we won't do this, but it's an advanced task to look into.\n",
    "\n",
    "## Standardise Percentages\n",
    "\n",
    "Should we standardise within time points, or across them? Or standardise with GP practices or across them?\n",
    "\n",
    "Can't standardize within GPs, as can't then compare between GPs.\n",
    "\n",
    "Can't standardise across GPs within years, as can't then compare between years.\n",
    "\n",
    "Can't standardise across GPs across years, as can't then disambiguate changes to rank order over time.\n",
    "\n",
    "<u> First Step </u>\n",
    "\n",
    "Take the average percentage of disease groups within postcodes annually - this is then an annual summary measure of prescribing by postcode. Aggregation entire depends on desired time frame for analysis.\n",
    "\n",
    "NB, this is a mean of percentages - could also calculate an overall percentage by summing monthly counts by year and dividing through by monthly sum of items.\n",
    "\n",
    "<u> Second Step </u>\n",
    "\n",
    "z-score standardise for earliest year observed across GPs. Store mean and standard deviation.\n",
    "\n",
    "z-score standardise subsequent years wrt baseline mean and standard deviation.\n",
    "\n",
    "OR\n",
    "\n",
    "Use min-max normalisation by year (decile normalisation?). This standardises the different percentages to the same range - although in theory they're comparable anyway...\n",
    "\n",
    "## Aggregation and Percentages"
   ]
  },
  {
   "cell_type": "code",
   "execution_count": 73,
   "metadata": {},
   "outputs": [],
   "source": [
    "data = pd.read_csv(path + \"/processed_data_with_postcodes_GPs.csv\", index_col = 0)"
   ]
  },
  {
   "cell_type": "code",
   "execution_count": 74,
   "metadata": {},
   "outputs": [
    {
     "data": {
      "text/plain": "  PracCode  depression  alzheimers  blood pressure  hypertension  diabeties  \\\n1   A81003         413          25             700           702        127   \n2   A81004         740          19             963           977        188   \n3   A81005         706          20            1399          1412        213   \n4   A81006        1506          44            1885          1910        358   \n5   A81007         943          33            1049          1084        176   \n6   A81008         517           8             971           991        145   \n7   A81009        1137          35            1434          1455        298   \n8   A81011        1279          35            1471          1485        220   \n9   A81012         734          13             788           795        178   \n\n   cardiovascular disease  insomnia  addiction  social anxiety  ...  oseast1m  \\\n1                     562         5          0               2  ...  450539.0   \n2                     754       132          0              11  ...  449732.0   \n3                    1064        27          0              25  ...  461221.0   \n4                    1622        17          0              15  ...  444478.0   \n5                     835         2          0               3  ...  450765.0   \n6                     850       157          0               0  ...  453885.0   \n7                    1017        77          0               4  ...  449131.0   \n8                    1082        30          0               9  ...  450765.0   \n9                     571        21          0              12  ...  450757.0   \n\n   osnrth1m     lsoa11     msoa11 ru11ind        rgn       laua    imd  \\\n1  532524.0  E01011999  E02002489      C1  E12000001  E06000001  -57.0   \n2  519892.0  E01012068  E02002496      C1  E12000001  E06000002  122.0   \n3  515668.0  E01012117  E02002532      C1  E12000001  E06000003  -86.0   \n4  519481.0  E01012267  E02002548      C1  E12000001  E06000004   39.0   \n5  532203.0  E01011999  E02002489      C1  E12000001  E06000001  -57.0   \n6  519863.0  E01033470  E02006910      C1  E12000001  E06000003 -104.0   \n7  518827.0  E01012078  E02002500      C1  E12000001  E06000002  107.0   \n8  532203.0  E01011999  E02002489      C1  E12000001  E06000001  -57.0   \n9  519893.0  E01012059  E02002497      C1  E12000001  E06000002   59.0   \n\n   POSTCODE NUMBER_OF_PATIENTS  \n1  TS26 8DB             3470.0  \n2   TS1 3BE             9078.0  \n3  TS14 7DJ             7918.0  \n4  TS18 2AT            12204.0  \n5  TS24 7PW             9520.0  \n6   TS6 6TD             4127.0  \n7   TS5 6HF             9249.0  \n8  TS24 7PW            11216.0  \n9   TS3 6AL             4730.0  \n\n[9 rows x 31 columns]",
      "text/html": "<div>\n<style scoped>\n    .dataframe tbody tr th:only-of-type {\n        vertical-align: middle;\n    }\n\n    .dataframe tbody tr th {\n        vertical-align: top;\n    }\n\n    .dataframe thead th {\n        text-align: right;\n    }\n</style>\n<table border=\"1\" class=\"dataframe\">\n  <thead>\n    <tr style=\"text-align: right;\">\n      <th></th>\n      <th>PracCode</th>\n      <th>depression</th>\n      <th>alzheimers</th>\n      <th>blood pressure</th>\n      <th>hypertension</th>\n      <th>diabeties</th>\n      <th>cardiovascular disease</th>\n      <th>insomnia</th>\n      <th>addiction</th>\n      <th>social anxiety</th>\n      <th>...</th>\n      <th>oseast1m</th>\n      <th>osnrth1m</th>\n      <th>lsoa11</th>\n      <th>msoa11</th>\n      <th>ru11ind</th>\n      <th>rgn</th>\n      <th>laua</th>\n      <th>imd</th>\n      <th>POSTCODE</th>\n      <th>NUMBER_OF_PATIENTS</th>\n    </tr>\n  </thead>\n  <tbody>\n    <tr>\n      <th>1</th>\n      <td>A81003</td>\n      <td>413</td>\n      <td>25</td>\n      <td>700</td>\n      <td>702</td>\n      <td>127</td>\n      <td>562</td>\n      <td>5</td>\n      <td>0</td>\n      <td>2</td>\n      <td>...</td>\n      <td>450539.0</td>\n      <td>532524.0</td>\n      <td>E01011999</td>\n      <td>E02002489</td>\n      <td>C1</td>\n      <td>E12000001</td>\n      <td>E06000001</td>\n      <td>-57.0</td>\n      <td>TS26 8DB</td>\n      <td>3470.0</td>\n    </tr>\n    <tr>\n      <th>2</th>\n      <td>A81004</td>\n      <td>740</td>\n      <td>19</td>\n      <td>963</td>\n      <td>977</td>\n      <td>188</td>\n      <td>754</td>\n      <td>132</td>\n      <td>0</td>\n      <td>11</td>\n      <td>...</td>\n      <td>449732.0</td>\n      <td>519892.0</td>\n      <td>E01012068</td>\n      <td>E02002496</td>\n      <td>C1</td>\n      <td>E12000001</td>\n      <td>E06000002</td>\n      <td>122.0</td>\n      <td>TS1 3BE</td>\n      <td>9078.0</td>\n    </tr>\n    <tr>\n      <th>3</th>\n      <td>A81005</td>\n      <td>706</td>\n      <td>20</td>\n      <td>1399</td>\n      <td>1412</td>\n      <td>213</td>\n      <td>1064</td>\n      <td>27</td>\n      <td>0</td>\n      <td>25</td>\n      <td>...</td>\n      <td>461221.0</td>\n      <td>515668.0</td>\n      <td>E01012117</td>\n      <td>E02002532</td>\n      <td>C1</td>\n      <td>E12000001</td>\n      <td>E06000003</td>\n      <td>-86.0</td>\n      <td>TS14 7DJ</td>\n      <td>7918.0</td>\n    </tr>\n    <tr>\n      <th>4</th>\n      <td>A81006</td>\n      <td>1506</td>\n      <td>44</td>\n      <td>1885</td>\n      <td>1910</td>\n      <td>358</td>\n      <td>1622</td>\n      <td>17</td>\n      <td>0</td>\n      <td>15</td>\n      <td>...</td>\n      <td>444478.0</td>\n      <td>519481.0</td>\n      <td>E01012267</td>\n      <td>E02002548</td>\n      <td>C1</td>\n      <td>E12000001</td>\n      <td>E06000004</td>\n      <td>39.0</td>\n      <td>TS18 2AT</td>\n      <td>12204.0</td>\n    </tr>\n    <tr>\n      <th>5</th>\n      <td>A81007</td>\n      <td>943</td>\n      <td>33</td>\n      <td>1049</td>\n      <td>1084</td>\n      <td>176</td>\n      <td>835</td>\n      <td>2</td>\n      <td>0</td>\n      <td>3</td>\n      <td>...</td>\n      <td>450765.0</td>\n      <td>532203.0</td>\n      <td>E01011999</td>\n      <td>E02002489</td>\n      <td>C1</td>\n      <td>E12000001</td>\n      <td>E06000001</td>\n      <td>-57.0</td>\n      <td>TS24 7PW</td>\n      <td>9520.0</td>\n    </tr>\n    <tr>\n      <th>6</th>\n      <td>A81008</td>\n      <td>517</td>\n      <td>8</td>\n      <td>971</td>\n      <td>991</td>\n      <td>145</td>\n      <td>850</td>\n      <td>157</td>\n      <td>0</td>\n      <td>0</td>\n      <td>...</td>\n      <td>453885.0</td>\n      <td>519863.0</td>\n      <td>E01033470</td>\n      <td>E02006910</td>\n      <td>C1</td>\n      <td>E12000001</td>\n      <td>E06000003</td>\n      <td>-104.0</td>\n      <td>TS6 6TD</td>\n      <td>4127.0</td>\n    </tr>\n    <tr>\n      <th>7</th>\n      <td>A81009</td>\n      <td>1137</td>\n      <td>35</td>\n      <td>1434</td>\n      <td>1455</td>\n      <td>298</td>\n      <td>1017</td>\n      <td>77</td>\n      <td>0</td>\n      <td>4</td>\n      <td>...</td>\n      <td>449131.0</td>\n      <td>518827.0</td>\n      <td>E01012078</td>\n      <td>E02002500</td>\n      <td>C1</td>\n      <td>E12000001</td>\n      <td>E06000002</td>\n      <td>107.0</td>\n      <td>TS5 6HF</td>\n      <td>9249.0</td>\n    </tr>\n    <tr>\n      <th>8</th>\n      <td>A81011</td>\n      <td>1279</td>\n      <td>35</td>\n      <td>1471</td>\n      <td>1485</td>\n      <td>220</td>\n      <td>1082</td>\n      <td>30</td>\n      <td>0</td>\n      <td>9</td>\n      <td>...</td>\n      <td>450765.0</td>\n      <td>532203.0</td>\n      <td>E01011999</td>\n      <td>E02002489</td>\n      <td>C1</td>\n      <td>E12000001</td>\n      <td>E06000001</td>\n      <td>-57.0</td>\n      <td>TS24 7PW</td>\n      <td>11216.0</td>\n    </tr>\n    <tr>\n      <th>9</th>\n      <td>A81012</td>\n      <td>734</td>\n      <td>13</td>\n      <td>788</td>\n      <td>795</td>\n      <td>178</td>\n      <td>571</td>\n      <td>21</td>\n      <td>0</td>\n      <td>12</td>\n      <td>...</td>\n      <td>450757.0</td>\n      <td>519893.0</td>\n      <td>E01012059</td>\n      <td>E02002497</td>\n      <td>C1</td>\n      <td>E12000001</td>\n      <td>E06000002</td>\n      <td>59.0</td>\n      <td>TS3 6AL</td>\n      <td>4730.0</td>\n    </tr>\n  </tbody>\n</table>\n<p>9 rows × 31 columns</p>\n</div>"
     },
     "execution_count": 74,
     "metadata": {},
     "output_type": "execute_result"
    }
   ],
   "source": [
    "data[1:10]"
   ]
  },
  {
   "cell_type": "code",
   "execution_count": 75,
   "metadata": {},
   "outputs": [],
   "source": [
    "# Make dictionary for aggregation\n",
    "# counts to sum\n",
    "agg_cols = {col : 'sum' for col in drug_data['illness'].unique()}\n",
    "agg_cols['ITEMS'] = 'sum'\n",
    "agg_cols['loneliness'] = 'sum'\n",
    "agg_cols['NUMBER_OF_PATIENTS'] = 'sum'\n",
    "\n",
    "# Other data to preserve\n",
    "for key in ['SHA','PCT','Street','Town','Town2','Postcode','oseast1m', 'osnrth1m',\n",
    "            'lsoa11', 'msoa11','ru11ind', 'rgn', 'laua', 'imd']:\n",
    "    agg_cols[key] = 'first'"
   ]
  },
  {
   "cell_type": "code",
   "execution_count": 76,
   "metadata": {},
   "outputs": [],
   "source": [
    "# Do aggregation and produce counts by postcode by date.\n",
    "data = data.groupby(['pcstrip','Date'], as_index=False).agg(agg_cols)"
   ]
  },
  {
   "cell_type": "code",
   "execution_count": 77,
   "metadata": {},
   "outputs": [],
   "source": [
    "# Generate percentages\n",
    "perc_cols = drug_data['illness'].unique()\n",
    "target_cols = perc_cols + '_perc'\n",
    "\n",
    "# Percentages for discrete illness groups\n",
    "data[target_cols] = data[perc_cols].divide(data['ITEMS'], axis=0) * 100\n",
    "\n",
    "# Overall percentage for loneliness realted disease prescribing\n",
    "data['loneliness_perc'] = data['loneliness'].divide(data['ITEMS'], axis=0) * 100"
   ]
  },
  {
   "cell_type": "markdown",
   "metadata": {},
   "source": [
    "## Standardisation (z-scores)"
   ]
  },
  {
   "cell_type": "code",
   "execution_count": 78,
   "metadata": {},
   "outputs": [
    {
     "data": {
      "text/plain": "   pcstrip        Date  depression  alzheimers  blood pressure  hypertension  \\\n1  AL100BS  2015-02-01         658           3            1197          1225   \n2  AL100BS  2015-03-01         659           5            1272          1301   \n3  AL100BS  2015-04-01         734           5            1258          1292   \n4  AL100BS  2015-05-01         694           5            1321          1345   \n5  AL100BS  2015-06-01         695           8            1235          1268   \n6  AL100BS  2015-07-01         771          10            1405          1442   \n7  AL100BS  2015-08-01         696           6            1241          1270   \n8  AL100BS  2015-09-01         707           5            1326          1354   \n9  AL100BS  2015-10-01         783           9            1370          1394   \n\n   diabeties  cardiovascular disease  insomnia  addiction  ...  \\\n1        182                     783        54          4  ...   \n2        222                     810        50          4  ...   \n3        227                     828        58          5  ...   \n4        220                     851        52          4  ...   \n5        225                     816        52          4  ...   \n6        253                     913        51          5  ...   \n7        214                     833        55          4  ...   \n8        217                     878        54          0  ...   \n9        252                     933        63          0  ...   \n\n   depression_perc  alzheimers_perc  blood pressure_perc  hypertension_perc  \\\n1         4.528562         0.020647             8.238128           8.430833   \n2         4.405964         0.033429             8.504379           8.698268   \n3         4.702717         0.032035             8.059969           8.277806   \n4         4.580253         0.032999             8.718321           8.876716   \n5         4.417186         0.050845             7.849244           8.058981   \n6         4.637594         0.060150             8.451128           8.673684   \n7         4.648057         0.040069             8.287699           8.481368   \n8         4.452982         0.031492             8.351704           8.528059   \n9         4.739996         0.054483             8.293480           8.438767   \n\n  diabeties_perc cardiovascular disease_perc insomnia_perc addiction_perc  \\\n1       1.252581                    5.388851      0.371645       0.027529   \n2       1.484255                    5.415525      0.334292       0.026743   \n3       1.454382                    5.304972      0.371604       0.032035   \n4       1.451954                    5.616420      0.343189       0.026399   \n5       1.430024                    5.186221      0.330494       0.025423   \n6       1.521805                    5.491729      0.306767       0.030075   \n7       1.429144                    5.562976      0.367303       0.026713   \n8       1.366757                    5.530012      0.340115       0.000000   \n9       1.525516                    5.648042      0.381379       0.000000   \n\n  social anxiety_perc loneliness_perc  \n1            0.055058       20.020647  \n2            0.073544       20.398476  \n3            0.076884       20.175551  \n4            0.072598       20.927930  \n5            0.057201       19.499174  \n6            0.054135       20.721805  \n7            0.073461       20.555630  \n8            0.069283       20.249417  \n9            0.048429       20.788183  \n\n[9 rows x 38 columns]",
      "text/html": "<div>\n<style scoped>\n    .dataframe tbody tr th:only-of-type {\n        vertical-align: middle;\n    }\n\n    .dataframe tbody tr th {\n        vertical-align: top;\n    }\n\n    .dataframe thead th {\n        text-align: right;\n    }\n</style>\n<table border=\"1\" class=\"dataframe\">\n  <thead>\n    <tr style=\"text-align: right;\">\n      <th></th>\n      <th>pcstrip</th>\n      <th>Date</th>\n      <th>depression</th>\n      <th>alzheimers</th>\n      <th>blood pressure</th>\n      <th>hypertension</th>\n      <th>diabeties</th>\n      <th>cardiovascular disease</th>\n      <th>insomnia</th>\n      <th>addiction</th>\n      <th>...</th>\n      <th>depression_perc</th>\n      <th>alzheimers_perc</th>\n      <th>blood pressure_perc</th>\n      <th>hypertension_perc</th>\n      <th>diabeties_perc</th>\n      <th>cardiovascular disease_perc</th>\n      <th>insomnia_perc</th>\n      <th>addiction_perc</th>\n      <th>social anxiety_perc</th>\n      <th>loneliness_perc</th>\n    </tr>\n  </thead>\n  <tbody>\n    <tr>\n      <th>1</th>\n      <td>AL100BS</td>\n      <td>2015-02-01</td>\n      <td>658</td>\n      <td>3</td>\n      <td>1197</td>\n      <td>1225</td>\n      <td>182</td>\n      <td>783</td>\n      <td>54</td>\n      <td>4</td>\n      <td>...</td>\n      <td>4.528562</td>\n      <td>0.020647</td>\n      <td>8.238128</td>\n      <td>8.430833</td>\n      <td>1.252581</td>\n      <td>5.388851</td>\n      <td>0.371645</td>\n      <td>0.027529</td>\n      <td>0.055058</td>\n      <td>20.020647</td>\n    </tr>\n    <tr>\n      <th>2</th>\n      <td>AL100BS</td>\n      <td>2015-03-01</td>\n      <td>659</td>\n      <td>5</td>\n      <td>1272</td>\n      <td>1301</td>\n      <td>222</td>\n      <td>810</td>\n      <td>50</td>\n      <td>4</td>\n      <td>...</td>\n      <td>4.405964</td>\n      <td>0.033429</td>\n      <td>8.504379</td>\n      <td>8.698268</td>\n      <td>1.484255</td>\n      <td>5.415525</td>\n      <td>0.334292</td>\n      <td>0.026743</td>\n      <td>0.073544</td>\n      <td>20.398476</td>\n    </tr>\n    <tr>\n      <th>3</th>\n      <td>AL100BS</td>\n      <td>2015-04-01</td>\n      <td>734</td>\n      <td>5</td>\n      <td>1258</td>\n      <td>1292</td>\n      <td>227</td>\n      <td>828</td>\n      <td>58</td>\n      <td>5</td>\n      <td>...</td>\n      <td>4.702717</td>\n      <td>0.032035</td>\n      <td>8.059969</td>\n      <td>8.277806</td>\n      <td>1.454382</td>\n      <td>5.304972</td>\n      <td>0.371604</td>\n      <td>0.032035</td>\n      <td>0.076884</td>\n      <td>20.175551</td>\n    </tr>\n    <tr>\n      <th>4</th>\n      <td>AL100BS</td>\n      <td>2015-05-01</td>\n      <td>694</td>\n      <td>5</td>\n      <td>1321</td>\n      <td>1345</td>\n      <td>220</td>\n      <td>851</td>\n      <td>52</td>\n      <td>4</td>\n      <td>...</td>\n      <td>4.580253</td>\n      <td>0.032999</td>\n      <td>8.718321</td>\n      <td>8.876716</td>\n      <td>1.451954</td>\n      <td>5.616420</td>\n      <td>0.343189</td>\n      <td>0.026399</td>\n      <td>0.072598</td>\n      <td>20.927930</td>\n    </tr>\n    <tr>\n      <th>5</th>\n      <td>AL100BS</td>\n      <td>2015-06-01</td>\n      <td>695</td>\n      <td>8</td>\n      <td>1235</td>\n      <td>1268</td>\n      <td>225</td>\n      <td>816</td>\n      <td>52</td>\n      <td>4</td>\n      <td>...</td>\n      <td>4.417186</td>\n      <td>0.050845</td>\n      <td>7.849244</td>\n      <td>8.058981</td>\n      <td>1.430024</td>\n      <td>5.186221</td>\n      <td>0.330494</td>\n      <td>0.025423</td>\n      <td>0.057201</td>\n      <td>19.499174</td>\n    </tr>\n    <tr>\n      <th>6</th>\n      <td>AL100BS</td>\n      <td>2015-07-01</td>\n      <td>771</td>\n      <td>10</td>\n      <td>1405</td>\n      <td>1442</td>\n      <td>253</td>\n      <td>913</td>\n      <td>51</td>\n      <td>5</td>\n      <td>...</td>\n      <td>4.637594</td>\n      <td>0.060150</td>\n      <td>8.451128</td>\n      <td>8.673684</td>\n      <td>1.521805</td>\n      <td>5.491729</td>\n      <td>0.306767</td>\n      <td>0.030075</td>\n      <td>0.054135</td>\n      <td>20.721805</td>\n    </tr>\n    <tr>\n      <th>7</th>\n      <td>AL100BS</td>\n      <td>2015-08-01</td>\n      <td>696</td>\n      <td>6</td>\n      <td>1241</td>\n      <td>1270</td>\n      <td>214</td>\n      <td>833</td>\n      <td>55</td>\n      <td>4</td>\n      <td>...</td>\n      <td>4.648057</td>\n      <td>0.040069</td>\n      <td>8.287699</td>\n      <td>8.481368</td>\n      <td>1.429144</td>\n      <td>5.562976</td>\n      <td>0.367303</td>\n      <td>0.026713</td>\n      <td>0.073461</td>\n      <td>20.555630</td>\n    </tr>\n    <tr>\n      <th>8</th>\n      <td>AL100BS</td>\n      <td>2015-09-01</td>\n      <td>707</td>\n      <td>5</td>\n      <td>1326</td>\n      <td>1354</td>\n      <td>217</td>\n      <td>878</td>\n      <td>54</td>\n      <td>0</td>\n      <td>...</td>\n      <td>4.452982</td>\n      <td>0.031492</td>\n      <td>8.351704</td>\n      <td>8.528059</td>\n      <td>1.366757</td>\n      <td>5.530012</td>\n      <td>0.340115</td>\n      <td>0.000000</td>\n      <td>0.069283</td>\n      <td>20.249417</td>\n    </tr>\n    <tr>\n      <th>9</th>\n      <td>AL100BS</td>\n      <td>2015-10-01</td>\n      <td>783</td>\n      <td>9</td>\n      <td>1370</td>\n      <td>1394</td>\n      <td>252</td>\n      <td>933</td>\n      <td>63</td>\n      <td>0</td>\n      <td>...</td>\n      <td>4.739996</td>\n      <td>0.054483</td>\n      <td>8.293480</td>\n      <td>8.438767</td>\n      <td>1.525516</td>\n      <td>5.648042</td>\n      <td>0.381379</td>\n      <td>0.000000</td>\n      <td>0.048429</td>\n      <td>20.788183</td>\n    </tr>\n  </tbody>\n</table>\n<p>9 rows × 38 columns</p>\n</div>"
     },
     "execution_count": 78,
     "metadata": {},
     "output_type": "execute_result"
    }
   ],
   "source": [
    "data[1:10]"
   ]
  },
  {
   "cell_type": "code",
   "execution_count": 79,
   "metadata": {},
   "outputs": [],
   "source": [
    "# Firstly aggregate percentages by postcodes by year.\n",
    "#data['Year'] = data['Date'].dt.year\n",
    "data['Year'] = 2015\n",
    "\n",
    "# Aggregation\n",
    "cols = {'NUMBER_OF_PATIENTS': 'mean', 'SHA':'first', 'PCT':'first', 'oseast1m':'first', 'osnrth1m':'first',\n",
    "        'lsoa11': 'first', 'msoa11': 'first', 'ru11ind': 'first', 'rgn': 'first', 'laua':'first', 'imd': 'first',\n",
    "        'depression_perc': 'mean', 'alzheimers_perc': 'mean', 'blood pressure_perc': 'mean', 'hypertension_perc': 'mean',\n",
    "        'diabeties_perc': 'mean', 'cardiovascular disease_perc': 'mean', 'insomnia_perc': 'mean', 'addiction_perc': 'mean',\n",
    "        'social anxiety_perc': 'mean', 'loneliness_perc': 'mean'}\n",
    "\n",
    "data = data.groupby(['pcstrip','Year'], as_index=False).agg(cols)"
   ]
  },
  {
   "cell_type": "code",
   "execution_count": 80,
   "metadata": {},
   "outputs": [],
   "source": [
    "# The mean value returns a value broadly in the centre of the distribution of respective disease classes.\n",
    "# Therefore we'll go with an un-truncated arithmetic mean.\n",
    "# Can always revisit this assumption later.\n",
    "\n",
    "per_cols = ['depression_perc', 'alzheimers_perc', 'blood pressure_perc', 'hypertension_perc', \n",
    "            'diabeties_perc', 'cardiovascular disease_perc', 'insomnia_perc', 'addiction_perc',\n",
    "            'social anxiety_perc', 'loneliness_perc']\n",
    "\n",
    "# Get mean and std for baseline (2016)\n",
    "mean_std = data[data['Year'] == 2018][per_cols].agg(['mean','std'])"
   ]
  },
  {
   "cell_type": "code",
   "execution_count": 81,
   "metadata": {},
   "outputs": [],
   "source": [
    "# Make new column names.\n",
    "std_cols = [col[:-4] + 'zscore' for col in per_cols]\n",
    "\n",
    "zscores = []    \n",
    "# z-score standardise for each year by baseline mean and std \n",
    "for year in [2015,2016,2017,2018]:\n",
    "    zscores.append((data.loc[data['Year'] == year, per_cols] - mean_std.loc['mean', per_cols]) / mean_std.loc['std', per_cols])\n",
    "\n",
    "zscores = pd.concat(zscores).sort_index()\n",
    "data[std_cols] = zscores"
   ]
  },
  {
   "cell_type": "code",
   "execution_count": 82,
   "metadata": {},
   "outputs": [
    {
     "data": {
      "text/plain": "<Figure size 1008x432 with 3 Axes>",
      "image/png": "[encoded data removed]"
     },
     "metadata": {
      "needs_background": "light"
     },
     "output_type": "display_data"
    }
   ],
   "source": [
    "# plot zscores for loneliness\n",
    "f, [ax1, ax2, ax3] = plt.subplots(1,3, figsize = (14,6), sharey = True)\n",
    "\n",
    "# Note that there appears to be increasing variation in lonelines prescribing over time.\n",
    "# These means are comparable as standardised using 2016 mean and std.\n",
    "data[data['Year'] == 2015]['loneliness_zscore'].hist(bins=100, ax = ax1)\n",
    "data[data['Year'] == 2017]['loneliness_zscore'].hist(bins=100, ax = ax2)\n",
    "data[data['Year'] == 2018]['loneliness_zscore'].hist(bins=100, ax = ax3);"
   ]
  },
  {
   "cell_type": "code",
   "execution_count": 83,
   "metadata": {},
   "outputs": [],
   "source": [
    "# Save aggregated data\n",
    "data.to_csv(path + \"/processed_data_with_postcodes_GPs_stats.csv\")"
   ]
  },
  {
   "cell_type": "markdown",
   "metadata": {},
   "source": [
    "# Create Loneliness Variable\n",
    "\n",
    "The actual loneliness variable we work with is the sum of the standardised scores of: depression, alzheimers, hypertension, insomnia, addiction and social anxiety, for each year of interest.\n",
    "\n",
    "This means that the loneliness variable is actually an equally weighted index of the above domains."
   ]
  },
  {
   "cell_type": "code",
   "execution_count": 84,
   "metadata": {},
   "outputs": [],
   "source": [
    "# sum function ignores NAs\n",
    "data['loneills'] =  data[['depression_zscore', 'alzheimers_zscore', 'hypertension_zscore', 'insomnia_zscore',\n",
    "                          'addiction_zscore','social anxiety_zscore']].sum(axis=1)"
   ]
  },
  {
   "cell_type": "code",
   "execution_count": 85,
   "metadata": {},
   "outputs": [
    {
     "data": {
      "text/plain": "<Figure size 1008x432 with 3 Axes>",
      "image/png": "[encoded data removed]"
     },
     "metadata": {
      "needs_background": "light"
     },
     "output_type": "display_data"
    }
   ],
   "source": [
    "# plot zscores for loneills\n",
    "f, [ax1, ax2, ax3] = plt.subplots(1,3, figsize = (14,6), sharey = True)\n",
    "\n",
    "# Note that there appears to be increasing variation in lonelines prescribing over time.\n",
    "data[data['Year'] == 2016]['loneills'].hist(bins=100, ax = ax1)\n",
    "data[data['Year'] == 2017]['loneills'].hist(bins=100, ax = ax2)\n",
    "data[data['Year'] == 2018]['loneills'].hist(bins=100, ax = ax3);"
   ]
  },
  {
   "cell_type": "code",
   "execution_count": 86,
   "metadata": {
    "pycharm": {
     "name": "#%%\n"
    }
   },
   "outputs": [],
   "source": [
    "# Save aggregated data\n",
    "data.to_csv(path + \"/final_data.csv\")"
   ]
  },
  {
   "cell_type": "code",
   "execution_count": 86,
   "outputs": [],
   "source": [
    "\n"
   ],
   "metadata": {
    "collapsed": false,
    "pycharm": {
     "name": "#%%\n"
    }
   }
  }
 ],
 "metadata": {
  "kernelspec": {
   "display_name": "Python 3",
   "language": "python",
   "name": "python3"
  },
  "language_info": {
   "codemirror_mode": {
    "name": "ipython",
    "version": 3
   },
   "file_extension": ".py",
   "mimetype": "text/x-python",
   "name": "python",
   "nbconvert_exporter": "python",
   "pygments_lexer": "ipython3",
   "version": "3.8.5"
  }
 },
 "nbformat": 4,
 "nbformat_minor": 2
}