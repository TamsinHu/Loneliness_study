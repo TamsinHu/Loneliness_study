{
 "cells": [
  {
   "cell_type": "code",
   "execution_count": 97,
   "metadata": {},
   "outputs": [],
   "source": [
    "import zipfile as zp\n",
    "import pandas as pd\n",
    "#from pypac import PACSession as Session #or use requests below if non-ONS\n",
    "from requests import Session\n",
    "from io import BytesIO\n",
    "import os\n",
    "import matplotlib.pyplot as plt\n",
    "import wget\n",
    "import ssl\n",
    "import calendar\n",
    "import time\n",
    "\n",
    "%matplotlib inline"
   ]
  },
  {
   "cell_type": "markdown",
   "metadata": {},
   "source": [
    "# Creating Summary Prescription Data for Wales\n",
    "\n",
    "This code has been created to work with 2016, 2017 and 2018 data, earlier data may have format inconsistencies that need to be dealt with."
   ]
  },
  {
   "cell_type": "markdown",
   "metadata": {},
   "source": [
    "# Set File Location of Prescribing Data\n",
    "\n",
    "These files are the \"General Practice Prescribing Data Extract\" zip files that come from: http://www.primarycareservices.wales.nhs.uk/general-practice-prescribing-data-extrac\n",
    "\n",
    "Data only goes back to April 2018 at time of writing (18 March 2021)"
   ]
  },
  {
   "cell_type": "code",
   "execution_count": 22,
   "metadata": {},
   "outputs": [],
   "source": [
    "# Path to zip files\n",
    "path = r\"wales/\""
   ]
  },
  {
   "cell_type": "code",
   "execution_count": 101,
   "metadata": {},
   "outputs": [
    {
     "name": "stdout",
     "output_type": "stream",
     "text": [
      "Downloading https://nwssp.nhs.wales/ourservices/primary-care-services/primary-care-services-documents/general-practice-prescribing-data-extract-docs/gp-data-extract-January-2018\n",
      "Downloading https://nwssp.nhs.wales/ourservices/primary-care-services/primary-care-services-documents/general-practice-prescribing-data-extract-docs/gp-data-extract-February-2018\n",
      "Downloading https://nwssp.nhs.wales/ourservices/primary-care-services/primary-care-services-documents/general-practice-prescribing-data-extract-docs/gp-data-extract-March-2018\n",
      "Downloading https://nwssp.nhs.wales/ourservices/primary-care-services/primary-care-services-documents/general-practice-prescribing-data-extract-docs/gp-data-extract-April-2018\n",
      "Downloading https://nwssp.nhs.wales/ourservices/primary-care-services/primary-care-services-documents/general-practice-prescribing-data-extract-docs/gp-data-extract-May-2018\n",
      "Downloading https://nwssp.nhs.wales/ourservices/primary-care-services/primary-care-services-documents/general-practice-prescribing-data-extract-docs/gp-data-extract-June-2018\n",
      "Downloading https://nwssp.nhs.wales/ourservices/primary-care-services/primary-care-services-documents/general-practice-prescribing-data-extract-docs/gp-data-extract-July-2018\n",
      "Downloading https://nwssp.nhs.wales/ourservices/primary-care-services/primary-care-services-documents/general-practice-prescribing-data-extract-docs/gp-data-extract-August-2018\n",
      "Downloading https://nwssp.nhs.wales/ourservices/primary-care-services/primary-care-services-documents/general-practice-prescribing-data-extract-docs/gp-data-extract-September-2018\n",
      "Downloading https://nwssp.nhs.wales/ourservices/primary-care-services/primary-care-services-documents/general-practice-prescribing-data-extract-docs/gp-data-extract-October-2018\n",
      "Downloading https://nwssp.nhs.wales/ourservices/primary-care-services/primary-care-services-documents/general-practice-prescribing-data-extract-docs/gp-data-extract-November-2018\n",
      "Downloading https://nwssp.nhs.wales/ourservices/primary-care-services/primary-care-services-documents/general-practice-prescribing-data-extract-docs/gp-data-extract-December-2018\n"
     ]
    }
   ],
   "source": [
    "# some problem with verifying certificates that I don't understand\n",
    "#(probably some bad config on WSL because it works fine in browser)\n",
    "ssl._create_default_https_context = ssl._create_unverified_context\n",
    "\n",
    "months = [name for name in calendar.month_name if name]\n",
    "years = [2018]\n",
    "# Only data for from April 2018 to Dec 2020 seems to be available\n",
    "# For now just focus on 2018 (some later steps assume just 2018, while others attempt to analyse 2016 and 2017 data)\n",
    "# years = [2018, 2019, 2020]\n",
    "\n",
    "files = [f\"gp-data-extract-{month}-{year}\" for year in years for month in months]\n",
    "\n",
    "url_base = \"https://nwssp.nhs.wales/ourservices/primary-care-services/primary-care-services-documents/general-practice-prescribing-data-extract-docs\"\n",
    "\n",
    "for file in files:\n",
    "    url = f'{url_base}/{file}'\n",
    "    # NB if the url is bad (e.g asking for data that doesn't exist) \n",
    "    # then server is happily returning 200 status code with HTML content of a 404-type page\n",
    "    print(f'Downloading {url}')\n",
    "    wget.download(url, f'{path}/Prescriptions')"
   ]
  },
  {
   "cell_type": "markdown",
   "metadata": {},
   "source": [
    "# Read in drug data"
   ]
  },
  {
   "cell_type": "code",
   "execution_count": 23,
   "metadata": {},
   "outputs": [],
   "source": [
    "# Get drug data (NB some drugs duplicated for illnesses)\n",
    "drug_data = pd.read_csv(path + r\"drug_list.csv\")"
   ]
  },
  {
   "cell_type": "markdown",
   "metadata": {},
   "source": [
    "# Process Prescribing Data\n",
    "\n",
    "This code iterates over the monthly prescribing data, ultimately producing an aggregate table.\n",
    "\n",
    "Note, if you want to find prescribing for non-loneliness related diseases, all you need to do is provide a different set of drug_data and edit the code_loneliness function.\n",
    "\n",
    "**Filename format:** gpdata[year][month].zip (e.g. gpdata201801.zip)\n",
    "\n",
    "**Columns:** HB, Locality, PracticeID, BNFCode, BNFName, Items, NIC, ActCost, Quantity, DDD, ADQ, Period"
   ]
  },
  {
   "cell_type": "code",
   "execution_count": 24,
   "metadata": {},
   "outputs": [],
   "source": [
    "# names of data files\n",
    "fn_addr = \"Address\"\n",
    "fn_prescribe = \"GPData\"\n",
    "\n",
    "# column names\n",
    "col_bnfname = \"BNFName\"\n",
    "col_items = \"Items\""
   ]
  },
  {
   "cell_type": "code",
   "execution_count": 25,
   "metadata": {},
   "outputs": [],
   "source": [
    "# Function to find loneliness related prescribing\n",
    "def code_loneliness(x):\n",
    "    out = {}\n",
    "    # coding by illness categories\n",
    "    for illness in drug_data['illness'].unique():\n",
    "        out[illness] = x[col_bnfname].str.contains(\"|\".join(drug_data[drug_data['illness'] == illness]['medication']),\n",
    "                                                 case=False, \n",
    "                                                 regex=True).astype('int16')\n",
    "    # Make dataframe\n",
    "    out = pd.DataFrame(out)\n",
    "    # Add loneliness related disease binary - avoids double counting some drugs.\n",
    "    out['loneliness'] = x[col_bnfname].str.contains(\"|\".join(drug_data['medication'].unique()),\n",
    "                                                  case = False, \n",
    "                                                  regex = True).astype('int16')\n",
    "    # Return dataframe multiplied by counts of items.\n",
    "    return out.multiply(x[col_items], axis=0)"
   ]
  },
  {
   "cell_type": "code",
   "execution_count": 26,
   "metadata": {},
   "outputs": [],
   "source": [
    "# Make dictionary for aggregation\n",
    "agg_cols = {col : 'sum' for col in drug_data['illness'].unique()}\n",
    "agg_cols[col_items] = 'sum'\n",
    "agg_cols['loneliness'] = 'sum'\n",
    "for key in ['Date','HB','pcstrip','Street','Area','Posttown','Postcode']:\n",
    "    agg_cols[key] = 'first'"
   ]
  },
  {
   "cell_type": "code",
   "execution_count": 29,
   "metadata": {},
   "outputs": [
    {
     "name": "stderr",
     "output_type": "stream",
     "text": [
      "<ipython-input-29-83ea05713f02>:34: FutureWarning: The default value of regex will change from True to False in a future version.\n",
      "  prescribe['pcstrip'] = prescribe['Postcode'].str.replace(\"\\s\",\"\")\n"
     ]
    },
    {
     "name": "stdout",
     "output_type": "stream",
     "text": [
      "GP Data Extract - April 2018.zip\n",
      "Gp Data Extract - October 2018.zip\n",
      "Gp Data Extract - June 2018.zip\n",
      "Gp Data Extract - September 2018.zip\n",
      "Gp Data Extract - May 2018.zip\n",
      "Gp Data Extract - August 2018.zip\n",
      "Gp Data Extract - November 2018.zip\n",
      "GP Data Extract - July 2018.zip\n",
      "GP Data Extract - December 2018.zip\n"
     ]
    }
   ],
   "source": [
    "monthly_data = []\n",
    "\n",
    "for file in os.listdir(path + \"Prescriptions\"):\n",
    "    with zp.ZipFile(path + \"Prescriptions/\" + file) as zipf:\n",
    "        zip_names = zipf.namelist()\n",
    "        \n",
    "        # Deal with Address Files\n",
    "        addr_name = next((filename for filename in zip_names if fn_addr in filename), None)\n",
    "        # Open address file in pandas, set header.\n",
    "        addr = pd.read_csv(zipf.open(addr_name), \n",
    "                           #header=1, \n",
    "                           #names = [\"Date\", \"PracCode\", \"PracName\",\"CenterName\",\n",
    "                           #         \"Street\", \"Town\", \"Town2\", \"Postcode\"], \n",
    "                           usecols = range(8))\n",
    "        \n",
    "        # Deal with prescription info\n",
    "        prescribe_name = next((filename for filename in zip_names if fn_prescribe in filename), None)\n",
    "        # Open prescribing files in pandas.\n",
    "        prescribe = pd.read_csv(zipf.open(prescribe_name))\n",
    "        prescribe.columns = prescribe.columns.str.strip()\n",
    "        # Rename 'period' column to 'date'\n",
    "        prescribe.rename(columns = {'Period': 'Date'}, inplace = True) \n",
    "        # Get counts of prescribing dataframe for loneliness related diseases\n",
    "        loneliness_prescribing = code_loneliness(prescribe[[col_bnfname, col_items]])\n",
    "        # merge dataframes\n",
    "        prescribe = prescribe.merge(loneliness_prescribing, left_index=True, right_index=True)\n",
    "        del loneliness_prescribing\n",
    "\n",
    "        # merge in address information\n",
    "        prescribe = prescribe.merge(addr, left_on = 'PracticeID', right_on = 'PracticeId')\n",
    "        del addr\n",
    "        \n",
    "        # Create uniform postcode field\n",
    "        prescribe['pcstrip'] = prescribe['Postcode'].str.replace(\"\\s\",\"\")\n",
    "\n",
    "        # get a summary - grouping by PracCode\n",
    "        summary = prescribe.groupby('PracticeID', as_index=False).agg(agg_cols)\n",
    "        del prescribe\n",
    "\n",
    "        monthly_data.append(summary)\n",
    "        print(file)\n"
   ]
  },
  {
   "cell_type": "code",
   "execution_count": 30,
   "metadata": {},
   "outputs": [],
   "source": [
    "# concatenate all the monthly data together.\n",
    "data = pd.concat(monthly_data, ignore_index = True)"
   ]
  },
  {
   "cell_type": "code",
   "execution_count": 31,
   "metadata": {},
   "outputs": [],
   "source": [
    "# Save aggregated data\n",
    "data.to_csv(path + \"processed_data.csv\")"
   ]
  },
  {
   "cell_type": "markdown",
   "metadata": {},
   "source": [
    "# Add Postcode Location\n",
    "\n",
    "Postcode location is pulled in from the latest ONS NSPL (National Statistics Postcode Lookup). There is a guide to fields here: http://geoportal.statistics.gov.uk/datasets/0a404beab6f544be8fb72d0c2b12d62b\n",
    "\n",
    "NB - If using an ONS laptop `pip install pypac`, if not comment pypac import above and use requests."
   ]
  },
  {
   "cell_type": "code",
   "execution_count": 32,
   "metadata": {},
   "outputs": [],
   "source": [
    "data = pd.read_csv(path + \"processed_data.csv\", index_col=0)"
   ]
  },
  {
   "cell_type": "code",
   "execution_count": 38,
   "metadata": {},
   "outputs": [],
   "source": [
    "postcode_url = \"https://www.arcgis.com/sharing/rest/content/items/863294881b43455fb0ca95aafb5bc3c2/data\"\n",
    "\n",
    "#wget.download(postcode_url, path)\n",
    "\n",
    "field_dtypes = {'objectid': 'int32', 'pcd':'str', 'pcd2': 'str', 'pcds':'str', 'dointr':'str','doterm':'str',\n",
    "                'usertype':'int8','oseast1m': 'float', 'osnorth1m': 'float', 'osgrdind':'int8', 'lat':'float', \n",
    "                'long':'float', 'X':'float', 'Y':'float', 'imd': 'int8',\n",
    "                'oa11':'str', 'cty': 'str', 'ced':'str', 'laua': 'str', 'ward': 'str', 'hlthau':'str',\n",
    "                'ctry': 'str','pcon': 'str','eer': 'str','teclec': 'str','ttwa': 'str','pct': 'str','nuts': 'str',\n",
    "                'park': 'str','lsoa11': 'str','msoa11': 'str','wz11': 'str','ccg': 'str','bua11': 'str',\n",
    "                'buasd11': 'str','ru11ind': 'str','oac11': 'str','lep1': 'str','lep2': 'str','pfa': 'str',\n",
    "                'ced': 'str','nhser': 'str','rgn': 'str','calncv': 'str','stp': 'str'}\n",
    "\n",
    "with zp.ZipFile(path + \"NSPL_NOV_2018_UK.zip\") as zipf:\n",
    "    pc = pd.read_csv(zipf.open(\"Data/NSPL_NOV_2018_UK.csv\"), dtype = field_dtypes)"
   ]
  },
  {
   "cell_type": "code",
   "execution_count": 33,
   "metadata": {},
   "outputs": [
    {
     "name": "stderr",
     "output_type": "stream",
     "text": [
      "/home/henry/anaconda3/envs/ads/lib/python3.8/site-packages/urllib3/connectionpool.py:1013: InsecureRequestWarning: Unverified HTTPS request is being made to host 'geoportal.statistics.gov.uk'. Adding certificate verification is strongly advised. See: https://urllib3.readthedocs.io/en/latest/advanced-usage.html#ssl-warnings\n",
      "  warnings.warn(\n"
     ]
    }
   ],
   "source": [
    "# Replaced by above as postcode url seems to be out-of-date\n",
    "\n",
    "# # Read in postcode lookup data\n",
    "# # This is the persistent link to the latest ONS NSPL\n",
    "# postcode_url = \"http://geoportal.statistics.gov.uk/datasets/055c2d8135ca4297a85d624bb68aefdb_0.csv\"\n",
    "\n",
    "# with Session() as session:\n",
    "#     response = session.get(postcode_url, verify = False)\n",
    "\n",
    "# field_dtypes = {'objectid': 'int32', 'pcd':'str', 'pcd2': 'str', 'pcds':'str', 'dointr':'str','doterm':'str',\n",
    "#                 'usertype':'int8','oseast1m': 'float', 'osnorth1m': 'float', 'osgrdind':'int8', 'lat':'float', \n",
    "#                 'long':'float', 'X':'float', 'Y':'float', 'imd': 'int8',\n",
    "#                 'oa11':'str', 'cty': 'str', 'ced':'str', 'laua': 'str', 'ward': 'str', 'hlthau':'str',\n",
    "#                 'ctry': 'str','pcon': 'str','eer': 'str','teclec': 'str','ttwa': 'str','pct': 'str','nuts': 'str',\n",
    "#                 'park': 'str','lsoa11': 'str','msoa11': 'str','wz11': 'str','ccg': 'str','bua11': 'str',\n",
    "#                 'buasd11': 'str','ru11ind': 'str','oac11': 'str','lep1': 'str','lep2': 'str','pfa': 'str',\n",
    "#                 'ced': 'str','nhser': 'str','rgn': 'str','calncv': 'str','stp': 'str'}\n",
    "\n",
    "# pc = pd.read_csv(BytesIO(response.content), dtype = field_dtypes)    "
   ]
  },
  {
   "cell_type": "code",
   "execution_count": 39,
   "metadata": {},
   "outputs": [
    {
     "data": {
      "text/html": [
       "<div>\n",
       "<style scoped>\n",
       "    .dataframe tbody tr th:only-of-type {\n",
       "        vertical-align: middle;\n",
       "    }\n",
       "\n",
       "    .dataframe tbody tr th {\n",
       "        vertical-align: top;\n",
       "    }\n",
       "\n",
       "    .dataframe thead th {\n",
       "        text-align: right;\n",
       "    }\n",
       "</style>\n",
       "<table border=\"1\" class=\"dataframe\">\n",
       "  <thead>\n",
       "    <tr style=\"text-align: right;\">\n",
       "      <th></th>\n",
       "      <th>pcd</th>\n",
       "      <th>pcd2</th>\n",
       "      <th>pcds</th>\n",
       "      <th>dointr</th>\n",
       "      <th>doterm</th>\n",
       "      <th>usertype</th>\n",
       "      <th>oseast1m</th>\n",
       "      <th>osnrth1m</th>\n",
       "      <th>osgrdind</th>\n",
       "      <th>oa11</th>\n",
       "      <th>...</th>\n",
       "      <th>ru11ind</th>\n",
       "      <th>oac11</th>\n",
       "      <th>lat</th>\n",
       "      <th>long</th>\n",
       "      <th>lep1</th>\n",
       "      <th>lep2</th>\n",
       "      <th>pfa</th>\n",
       "      <th>imd</th>\n",
       "      <th>calncv</th>\n",
       "      <th>stp</th>\n",
       "    </tr>\n",
       "  </thead>\n",
       "  <tbody>\n",
       "    <tr>\n",
       "      <th>0</th>\n",
       "      <td>AB1 0AA</td>\n",
       "      <td>AB1  0AA</td>\n",
       "      <td>AB1 0AA</td>\n",
       "      <td>198001</td>\n",
       "      <td>199606</td>\n",
       "      <td>0</td>\n",
       "      <td>385386.0</td>\n",
       "      <td>801193.0</td>\n",
       "      <td>1</td>\n",
       "      <td>S00090303</td>\n",
       "      <td>...</td>\n",
       "      <td>3</td>\n",
       "      <td>1C3</td>\n",
       "      <td>57.101474</td>\n",
       "      <td>-2.242851</td>\n",
       "      <td>S99999999</td>\n",
       "      <td>S99999999</td>\n",
       "      <td>S23000009</td>\n",
       "      <td>-104</td>\n",
       "      <td>S99999999</td>\n",
       "      <td>S99999999</td>\n",
       "    </tr>\n",
       "    <tr>\n",
       "      <th>1</th>\n",
       "      <td>AB1 0AB</td>\n",
       "      <td>AB1  0AB</td>\n",
       "      <td>AB1 0AB</td>\n",
       "      <td>198001</td>\n",
       "      <td>199606</td>\n",
       "      <td>0</td>\n",
       "      <td>385177.0</td>\n",
       "      <td>801314.0</td>\n",
       "      <td>1</td>\n",
       "      <td>S00090303</td>\n",
       "      <td>...</td>\n",
       "      <td>3</td>\n",
       "      <td>1C3</td>\n",
       "      <td>57.102554</td>\n",
       "      <td>-2.246308</td>\n",
       "      <td>S99999999</td>\n",
       "      <td>S99999999</td>\n",
       "      <td>S23000009</td>\n",
       "      <td>-104</td>\n",
       "      <td>S99999999</td>\n",
       "      <td>S99999999</td>\n",
       "    </tr>\n",
       "    <tr>\n",
       "      <th>2</th>\n",
       "      <td>AB1 0AD</td>\n",
       "      <td>AB1  0AD</td>\n",
       "      <td>AB1 0AD</td>\n",
       "      <td>198001</td>\n",
       "      <td>199606</td>\n",
       "      <td>0</td>\n",
       "      <td>385053.0</td>\n",
       "      <td>801092.0</td>\n",
       "      <td>1</td>\n",
       "      <td>S00090399</td>\n",
       "      <td>...</td>\n",
       "      <td>3</td>\n",
       "      <td>6A1</td>\n",
       "      <td>57.100556</td>\n",
       "      <td>-2.248342</td>\n",
       "      <td>S99999999</td>\n",
       "      <td>S99999999</td>\n",
       "      <td>S23000009</td>\n",
       "      <td>-104</td>\n",
       "      <td>S99999999</td>\n",
       "      <td>S99999999</td>\n",
       "    </tr>\n",
       "    <tr>\n",
       "      <th>3</th>\n",
       "      <td>AB1 0AE</td>\n",
       "      <td>AB1  0AE</td>\n",
       "      <td>AB1 0AE</td>\n",
       "      <td>199402</td>\n",
       "      <td>199606</td>\n",
       "      <td>0</td>\n",
       "      <td>384600.0</td>\n",
       "      <td>799300.0</td>\n",
       "      <td>8</td>\n",
       "      <td>S00091322</td>\n",
       "      <td>...</td>\n",
       "      <td>6</td>\n",
       "      <td>1A2</td>\n",
       "      <td>57.084444</td>\n",
       "      <td>-2.255708</td>\n",
       "      <td>S99999999</td>\n",
       "      <td>S99999999</td>\n",
       "      <td>S23000009</td>\n",
       "      <td>127</td>\n",
       "      <td>S99999999</td>\n",
       "      <td>S99999999</td>\n",
       "    </tr>\n",
       "    <tr>\n",
       "      <th>4</th>\n",
       "      <td>AB1 0AF</td>\n",
       "      <td>AB1  0AF</td>\n",
       "      <td>AB1 0AF</td>\n",
       "      <td>199012</td>\n",
       "      <td>199207</td>\n",
       "      <td>1</td>\n",
       "      <td>384460.0</td>\n",
       "      <td>800660.0</td>\n",
       "      <td>8</td>\n",
       "      <td>S00090299</td>\n",
       "      <td>...</td>\n",
       "      <td>3</td>\n",
       "      <td>6A4</td>\n",
       "      <td>57.096656</td>\n",
       "      <td>-2.258102</td>\n",
       "      <td>S99999999</td>\n",
       "      <td>S99999999</td>\n",
       "      <td>S23000009</td>\n",
       "      <td>12</td>\n",
       "      <td>S99999999</td>\n",
       "      <td>S99999999</td>\n",
       "    </tr>\n",
       "    <tr>\n",
       "      <th>...</th>\n",
       "      <td>...</td>\n",
       "      <td>...</td>\n",
       "      <td>...</td>\n",
       "      <td>...</td>\n",
       "      <td>...</td>\n",
       "      <td>...</td>\n",
       "      <td>...</td>\n",
       "      <td>...</td>\n",
       "      <td>...</td>\n",
       "      <td>...</td>\n",
       "      <td>...</td>\n",
       "      <td>...</td>\n",
       "      <td>...</td>\n",
       "      <td>...</td>\n",
       "      <td>...</td>\n",
       "      <td>...</td>\n",
       "      <td>...</td>\n",
       "      <td>...</td>\n",
       "      <td>...</td>\n",
       "      <td>...</td>\n",
       "      <td>...</td>\n",
       "    </tr>\n",
       "    <tr>\n",
       "      <th>2620717</th>\n",
       "      <td>ZE3 9JW</td>\n",
       "      <td>ZE3  9JW</td>\n",
       "      <td>ZE3 9JW</td>\n",
       "      <td>198001</td>\n",
       "      <td>NaN</td>\n",
       "      <td>0</td>\n",
       "      <td>438975.0</td>\n",
       "      <td>1110038.0</td>\n",
       "      <td>1</td>\n",
       "      <td>S00129022</td>\n",
       "      <td>...</td>\n",
       "      <td>8</td>\n",
       "      <td>1B1</td>\n",
       "      <td>59.873651</td>\n",
       "      <td>-1.305697</td>\n",
       "      <td>S99999999</td>\n",
       "      <td>S99999999</td>\n",
       "      <td>S23000009</td>\n",
       "      <td>91</td>\n",
       "      <td>S99999999</td>\n",
       "      <td>S99999999</td>\n",
       "    </tr>\n",
       "    <tr>\n",
       "      <th>2620718</th>\n",
       "      <td>ZE3 9JX</td>\n",
       "      <td>ZE3  9JX</td>\n",
       "      <td>ZE3 9JX</td>\n",
       "      <td>198001</td>\n",
       "      <td>NaN</td>\n",
       "      <td>0</td>\n",
       "      <td>438872.0</td>\n",
       "      <td>1110219.0</td>\n",
       "      <td>1</td>\n",
       "      <td>S00129022</td>\n",
       "      <td>...</td>\n",
       "      <td>8</td>\n",
       "      <td>1B1</td>\n",
       "      <td>59.875286</td>\n",
       "      <td>-1.307502</td>\n",
       "      <td>S99999999</td>\n",
       "      <td>S99999999</td>\n",
       "      <td>S23000009</td>\n",
       "      <td>91</td>\n",
       "      <td>S99999999</td>\n",
       "      <td>S99999999</td>\n",
       "    </tr>\n",
       "    <tr>\n",
       "      <th>2620719</th>\n",
       "      <td>ZE3 9JY</td>\n",
       "      <td>ZE3  9JY</td>\n",
       "      <td>ZE3 9JY</td>\n",
       "      <td>198001</td>\n",
       "      <td>NaN</td>\n",
       "      <td>0</td>\n",
       "      <td>438498.0</td>\n",
       "      <td>1112029.0</td>\n",
       "      <td>1</td>\n",
       "      <td>S00129025</td>\n",
       "      <td>...</td>\n",
       "      <td>8</td>\n",
       "      <td>1A1</td>\n",
       "      <td>59.891572</td>\n",
       "      <td>-1.313847</td>\n",
       "      <td>S99999999</td>\n",
       "      <td>S99999999</td>\n",
       "      <td>S23000009</td>\n",
       "      <td>91</td>\n",
       "      <td>S99999999</td>\n",
       "      <td>S99999999</td>\n",
       "    </tr>\n",
       "    <tr>\n",
       "      <th>2620720</th>\n",
       "      <td>ZE3 9JZ</td>\n",
       "      <td>ZE3  9JZ</td>\n",
       "      <td>ZE3 9JZ</td>\n",
       "      <td>198001</td>\n",
       "      <td>NaN</td>\n",
       "      <td>0</td>\n",
       "      <td>438662.0</td>\n",
       "      <td>1112122.0</td>\n",
       "      <td>1</td>\n",
       "      <td>S00129025</td>\n",
       "      <td>...</td>\n",
       "      <td>8</td>\n",
       "      <td>1A1</td>\n",
       "      <td>59.892392</td>\n",
       "      <td>-1.310899</td>\n",
       "      <td>S99999999</td>\n",
       "      <td>S99999999</td>\n",
       "      <td>S23000009</td>\n",
       "      <td>91</td>\n",
       "      <td>S99999999</td>\n",
       "      <td>S99999999</td>\n",
       "    </tr>\n",
       "    <tr>\n",
       "      <th>2620721</th>\n",
       "      <td>ZE3 9XP</td>\n",
       "      <td>ZE3  9XP</td>\n",
       "      <td>ZE3 9XP</td>\n",
       "      <td>198107</td>\n",
       "      <td>199207</td>\n",
       "      <td>1</td>\n",
       "      <td>438854.0</td>\n",
       "      <td>1111535.0</td>\n",
       "      <td>8</td>\n",
       "      <td>S00129024</td>\n",
       "      <td>...</td>\n",
       "      <td>8</td>\n",
       "      <td>1B3</td>\n",
       "      <td>59.887104</td>\n",
       "      <td>-1.307578</td>\n",
       "      <td>S99999999</td>\n",
       "      <td>S99999999</td>\n",
       "      <td>S23000009</td>\n",
       "      <td>91</td>\n",
       "      <td>S99999999</td>\n",
       "      <td>S99999999</td>\n",
       "    </tr>\n",
       "  </tbody>\n",
       "</table>\n",
       "<p>2620722 rows × 41 columns</p>\n",
       "</div>"
      ],
      "text/plain": [
       "             pcd      pcd2     pcds  dointr  doterm  usertype  oseast1m  \\\n",
       "0        AB1 0AA  AB1  0AA  AB1 0AA  198001  199606         0  385386.0   \n",
       "1        AB1 0AB  AB1  0AB  AB1 0AB  198001  199606         0  385177.0   \n",
       "2        AB1 0AD  AB1  0AD  AB1 0AD  198001  199606         0  385053.0   \n",
       "3        AB1 0AE  AB1  0AE  AB1 0AE  199402  199606         0  384600.0   \n",
       "4        AB1 0AF  AB1  0AF  AB1 0AF  199012  199207         1  384460.0   \n",
       "...          ...       ...      ...     ...     ...       ...       ...   \n",
       "2620717  ZE3 9JW  ZE3  9JW  ZE3 9JW  198001     NaN         0  438975.0   \n",
       "2620718  ZE3 9JX  ZE3  9JX  ZE3 9JX  198001     NaN         0  438872.0   \n",
       "2620719  ZE3 9JY  ZE3  9JY  ZE3 9JY  198001     NaN         0  438498.0   \n",
       "2620720  ZE3 9JZ  ZE3  9JZ  ZE3 9JZ  198001     NaN         0  438662.0   \n",
       "2620721  ZE3 9XP  ZE3  9XP  ZE3 9XP  198107  199207         1  438854.0   \n",
       "\n",
       "          osnrth1m  osgrdind       oa11  ... ru11ind oac11        lat  \\\n",
       "0         801193.0         1  S00090303  ...       3   1C3  57.101474   \n",
       "1         801314.0         1  S00090303  ...       3   1C3  57.102554   \n",
       "2         801092.0         1  S00090399  ...       3   6A1  57.100556   \n",
       "3         799300.0         8  S00091322  ...       6   1A2  57.084444   \n",
       "4         800660.0         8  S00090299  ...       3   6A4  57.096656   \n",
       "...            ...       ...        ...  ...     ...   ...        ...   \n",
       "2620717  1110038.0         1  S00129022  ...       8   1B1  59.873651   \n",
       "2620718  1110219.0         1  S00129022  ...       8   1B1  59.875286   \n",
       "2620719  1112029.0         1  S00129025  ...       8   1A1  59.891572   \n",
       "2620720  1112122.0         1  S00129025  ...       8   1A1  59.892392   \n",
       "2620721  1111535.0         8  S00129024  ...       8   1B3  59.887104   \n",
       "\n",
       "             long       lep1       lep2        pfa  imd     calncv        stp  \n",
       "0       -2.242851  S99999999  S99999999  S23000009 -104  S99999999  S99999999  \n",
       "1       -2.246308  S99999999  S99999999  S23000009 -104  S99999999  S99999999  \n",
       "2       -2.248342  S99999999  S99999999  S23000009 -104  S99999999  S99999999  \n",
       "3       -2.255708  S99999999  S99999999  S23000009  127  S99999999  S99999999  \n",
       "4       -2.258102  S99999999  S99999999  S23000009   12  S99999999  S99999999  \n",
       "...           ...        ...        ...        ...  ...        ...        ...  \n",
       "2620717 -1.305697  S99999999  S99999999  S23000009   91  S99999999  S99999999  \n",
       "2620718 -1.307502  S99999999  S99999999  S23000009   91  S99999999  S99999999  \n",
       "2620719 -1.313847  S99999999  S99999999  S23000009   91  S99999999  S99999999  \n",
       "2620720 -1.310899  S99999999  S99999999  S23000009   91  S99999999  S99999999  \n",
       "2620721 -1.307578  S99999999  S99999999  S23000009   91  S99999999  S99999999  \n",
       "\n",
       "[2620722 rows x 41 columns]"
      ]
     },
     "execution_count": 39,
     "metadata": {},
     "output_type": "execute_result"
    }
   ],
   "source": [
    "pc"
   ]
  },
  {
   "cell_type": "code",
   "execution_count": 40,
   "metadata": {},
   "outputs": [
    {
     "name": "stderr",
     "output_type": "stream",
     "text": [
      "<ipython-input-40-58cfb109ea9b>:2: FutureWarning: The default value of regex will change from True to False in a future version.\n",
      "  pc['pcstrip'] = pc['pcd'].str.replace(\"\\s\",\"\")\n"
     ]
    }
   ],
   "source": [
    "# create pcstrip for matching\n",
    "pc['pcstrip'] = pc['pcd'].str.replace(\"\\s\",\"\")"
   ]
  },
  {
   "cell_type": "markdown",
   "metadata": {},
   "source": [
    "NB - here I'm joining 2011 LSOA, 2011 MSOA, Rural-Urban Indicator, Region (formally GOR), Local Authority Area (effectively district), and IMD score (NB separate for each country). However, you can add any of the geography codes available in the NSPL."
   ]
  },
  {
   "cell_type": "code",
   "execution_count": 41,
   "metadata": {},
   "outputs": [],
   "source": [
    "data_temp = data.merge(pc[['pcstrip','oseast1m','osnrth1m','lsoa11','msoa11','ru11ind','rgn','laua','imd']], \n",
    "                       how = 'left',\n",
    "                       on = 'pcstrip')"
   ]
  },
  {
   "cell_type": "code",
   "execution_count": 42,
   "metadata": {},
   "outputs": [
    {
     "data": {
      "text/plain": [
       "CF34LG     9\n",
       "LD3OAW     9\n",
       "OO000OO    1\n",
       "Name: pcstrip, dtype: int64"
      ]
     },
     "execution_count": 42,
     "metadata": {},
     "output_type": "execute_result"
    }
   ],
   "source": [
    "# Check for missing postcodes\n",
    "data_temp[data_temp['oseast1m'].isnull()]['pcstrip'].value_counts()"
   ]
  },
  {
   "cell_type": "code",
   "execution_count": 43,
   "metadata": {},
   "outputs": [],
   "source": [
    "# Clean Missing Postcodes - appear to be typos.\n",
    "new_pcs = {'CF34LG': 'CF33LG',    # Rumney Primary Care Centre\n",
    "           'LD3OAW': 'LD30AW',    # Haygarth Doctors\n",
    "           'OO000OO': 'CF433HB'}  # \"THE SURGERY, PENRHYS, FERNDALE RHONDDA\"(Tylorstown Surgery, in real life)\n",
    "\n",
    "data['pcstrip'] = data['pcstrip'].map(new_pcs).fillna(data['pcstrip'])"
   ]
  },
  {
   "cell_type": "code",
   "execution_count": 44,
   "metadata": {},
   "outputs": [],
   "source": [
    "# Merge data\n",
    "data = data.merge(pc[['pcstrip','oseast1m','osnrth1m','lsoa11','msoa11','ru11ind','rgn','laua','imd']], \n",
    "                  how = 'left', \n",
    "                  on = 'pcstrip')"
   ]
  },
  {
   "cell_type": "code",
   "execution_count": 46,
   "metadata": {},
   "outputs": [
    {
     "data": {
      "text/plain": [
       "Series([], Name: pcstrip, dtype: int64)"
      ]
     },
     "execution_count": 46,
     "metadata": {},
     "output_type": "execute_result"
    }
   ],
   "source": [
    "# No missing postcodes anymore\n",
    "data[data['oseast1m'].isnull()]['pcstrip'].value_counts()"
   ]
  },
  {
   "cell_type": "code",
   "execution_count": 47,
   "metadata": {},
   "outputs": [],
   "source": [
    "# Save aggregated data\n",
    "data.to_csv(path + \"processed_data_with_postcodes.csv\")"
   ]
  },
  {
   "cell_type": "markdown",
   "metadata": {},
   "source": [
    "## Check Postcodes \n",
    "\n",
    "Some Practice Codes have more than one postcode associated with them. Possible reasons for this are:\n",
    "* Practices move to a new location.\n",
    "* Practices are assigned a new postcode but don't physically move.\n",
    "* Practice postcodes are wrongly entered at a particular wave and subsequently fixed.\n",
    "\n",
    "There are 10 practices codes which have more than 1 postcode assigned to them, this is about 1.7% of unique practices.\n",
    "\n",
    "All 10 practices have 2 postcodes associated with them.\n",
    "\n",
    "2 of these practices fall within the same LSOA, 8 fall within 2 different LSOAs.\n",
    "\n",
    "**We'll ignore this for now** - this will require some more advanced cleaning - useful to be aware of though."
   ]
  },
  {
   "cell_type": "code",
   "execution_count": 48,
   "metadata": {},
   "outputs": [
    {
     "data": {
      "text/plain": [
       "PracticeID                 object\n",
       "depression                  int64\n",
       "alzheimers                  int64\n",
       "blood pressure              int64\n",
       "hypertension                int64\n",
       "diabeties                   int64\n",
       "cardiovascular disease      int64\n",
       "insomnia                    int64\n",
       "addiction                   int64\n",
       "social anxiety              int64\n",
       "Items                       int64\n",
       "loneliness                  int64\n",
       "Date                        int64\n",
       "HB                         object\n",
       "pcstrip                    object\n",
       "Street                     object\n",
       "Area                       object\n",
       "Posttown                   object\n",
       "Postcode                   object\n",
       "oseast1m                  float64\n",
       "osnrth1m                  float64\n",
       "lsoa11                     object\n",
       "msoa11                     object\n",
       "ru11ind                    object\n",
       "rgn                        object\n",
       "laua                       object\n",
       "imd                          int8\n",
       "dtype: object"
      ]
     },
     "execution_count": 48,
     "metadata": {},
     "output_type": "execute_result"
    }
   ],
   "source": [
    "data.dtypes"
   ]
  },
  {
   "cell_type": "code",
   "execution_count": 49,
   "metadata": {},
   "outputs": [
    {
     "data": {
      "text/plain": [
       "5"
      ]
     },
     "execution_count": 49,
     "metadata": {},
     "output_type": "execute_result"
    }
   ],
   "source": [
    "# Check for 1 postcode per Practice Code\n",
    "pc_prac_counts = data.groupby('PracticeID')['pcstrip'].unique().map(len)\n",
    "# 10 practices have more than 1 postcode associated with it.\n",
    "pc_prac_counts[pc_prac_counts > 1].count()"
   ]
  },
  {
   "cell_type": "code",
   "execution_count": 50,
   "metadata": {},
   "outputs": [
    {
     "data": {
      "text/plain": [
       "0.009057971014492754"
      ]
     },
     "execution_count": 50,
     "metadata": {},
     "output_type": "execute_result"
    }
   ],
   "source": [
    "# Practice codes with multiple associated postcodes account forc. 1.7% of the data\n",
    "pc_prac_counts[pc_prac_counts > 1].count()/len(pc_prac_counts)"
   ]
  },
  {
   "cell_type": "code",
   "execution_count": 51,
   "metadata": {},
   "outputs": [
    {
     "data": {
      "text/plain": [
       "2    5\n",
       "Name: pcstrip, dtype: int64"
      ]
     },
     "execution_count": 51,
     "metadata": {},
     "output_type": "execute_result"
    }
   ],
   "source": [
    "pc_prac_counts[pc_prac_counts > 1].value_counts()"
   ]
  },
  {
   "cell_type": "code",
   "execution_count": 52,
   "metadata": {},
   "outputs": [
    {
     "data": {
      "text/plain": [
       "2    4\n",
       "1    1\n",
       "Name: lsoa11, dtype: int64"
      ]
     },
     "execution_count": 52,
     "metadata": {},
     "output_type": "execute_result"
    }
   ],
   "source": [
    "# Count of these Practices falling within the same LSOA\n",
    "(data[data['PracticeID'].isin(pc_prac_counts[pc_prac_counts > 1].index)]\n",
    " .groupby('PracticeID')['lsoa11']\n",
    " .unique()\n",
    " .map(len)\n",
    " .value_counts())"
   ]
  },
  {
   "cell_type": "markdown",
   "metadata": {},
   "source": [
    "# Subsetting the Data\n",
    "\n",
    "## Use only General Practice surgeries\n",
    "\n",
    "Use the 'GP Practice Analysis' data from: http://www.primarycareservices.wales.nhs.uk/gp-practice-analysis to get GP surgery codes and number of registered patients.\n",
    "\n",
    "Note that Wales publishes only one file per year, so we'll just have to use the end-of-year patient counts rather than month-by-month counts.\n",
    "\n",
    "**Filename format:** PracticeItems[month][year].xlsx (e.g. PracticeItemsDecember2018.xlsx)\n",
    "\n",
    "**Columns:** LHBName, PracticeID, CurrentRegisteredGPsInPractice, SeniorPartner, Street, Area, PostTown, County, Postcode, Dispensing, Number of Prescribing Patients, Number of Dispensing Patients, Total Number of Patients (Including Temporary Residents), Jan, Feb, Mar, Apr, May, Jun, Jul, Aug, Sep, Oct, Nov, Dec, Grand Total"
   ]
  },
  {
   "cell_type": "code",
   "execution_count": 53,
   "metadata": {},
   "outputs": [],
   "source": [
    "data = pd.read_csv(path + \"processed_data_with_postcodes.csv\", index_col = 0)"
   ]
  },
  {
   "cell_type": "code",
   "execution_count": 64,
   "metadata": {},
   "outputs": [],
   "source": [
    "# Get GP files\n",
    "gp_path = path + r\"GP data/\"\n",
    "if not os.path.exists(gp_path):\n",
    "    os.mkdir(gp_path)\n",
    "\n",
    "file = \"PracticeItemsDecember2018.xlsx\"\n",
    "\n",
    "gp_filepath = f'{gp_path}/{file}'\n",
    "\n",
    "if not os.path.exists(gp_filepath):\n",
    "    gp_url = \"https://nwssp.nhs.wales/ourservices/primary-care-services/primary-care-services-documents/gp-practice-analysis-docs/gp-practice-analysis-2018\"\n",
    "    wget.download(gp_url, gp_filepath)"
   ]
  },
  {
   "cell_type": "code",
   "execution_count": 67,
   "metadata": {},
   "outputs": [
    {
     "data": {
      "text/html": [
       "<div>\n",
       "<style scoped>\n",
       "    .dataframe tbody tr th:only-of-type {\n",
       "        vertical-align: middle;\n",
       "    }\n",
       "\n",
       "    .dataframe tbody tr th {\n",
       "        vertical-align: top;\n",
       "    }\n",
       "\n",
       "    .dataframe thead th {\n",
       "        text-align: right;\n",
       "    }\n",
       "</style>\n",
       "<table border=\"1\" class=\"dataframe\">\n",
       "  <thead>\n",
       "    <tr style=\"text-align: right;\">\n",
       "      <th></th>\n",
       "      <th>PracticeID</th>\n",
       "      <th>Number_of_Patients</th>\n",
       "    </tr>\n",
       "  </thead>\n",
       "  <tbody>\n",
       "    <tr>\n",
       "      <th>0</th>\n",
       "      <td>W93007</td>\n",
       "      <td>4953</td>\n",
       "    </tr>\n",
       "    <tr>\n",
       "      <th>1</th>\n",
       "      <td>W93009</td>\n",
       "      <td>4531</td>\n",
       "    </tr>\n",
       "    <tr>\n",
       "      <th>2</th>\n",
       "      <td>W93032</td>\n",
       "      <td>8570</td>\n",
       "    </tr>\n",
       "    <tr>\n",
       "      <th>3</th>\n",
       "      <td>W93035</td>\n",
       "      <td>7093</td>\n",
       "    </tr>\n",
       "    <tr>\n",
       "      <th>4</th>\n",
       "      <td>W93063</td>\n",
       "      <td>5589</td>\n",
       "    </tr>\n",
       "  </tbody>\n",
       "</table>\n",
       "</div>"
      ],
      "text/plain": [
       "  PracticeID  Number_of_Patients\n",
       "0     W93007                4953\n",
       "1     W93009                4531\n",
       "2     W93032                8570\n",
       "3     W93035                7093\n",
       "4     W93063                5589"
      ]
     },
     "execution_count": 67,
     "metadata": {},
     "output_type": "execute_result"
    }
   ],
   "source": [
    "gp_data = pd.read_excel(gp_filepath)\n",
    "gp_data.rename(columns = {'Total Number of Patients (Including Temporary Residents)': 'Number_of_Patients'}, inplace = True)\n",
    "\n",
    "gp_data = gp_data[['PracticeID', 'Number_of_Patients']]\n",
    "\n",
    "gp_data.head()"
   ]
  },
  {
   "cell_type": "code",
   "execution_count": 68,
   "metadata": {},
   "outputs": [
    {
     "data": {
      "text/plain": [
       "(4500, 27)"
      ]
     },
     "execution_count": 68,
     "metadata": {},
     "output_type": "execute_result"
    }
   ],
   "source": [
    "# Get the unique codes for GP surgeries and subset the prescribing data according to these codes.\n",
    "gp_ids = gp_data['PracticeID'].unique()\n",
    "data = data[data['PracticeID'].isin(gp_ids)].copy()\n",
    "data.shape"
   ]
  },
  {
   "cell_type": "code",
   "execution_count": 69,
   "metadata": {},
   "outputs": [],
   "source": [
    "# Merge on the basis of PracticeID - some patient counts are missing (zero)\n",
    "data = data.merge(gp_data, how = 'left', on = ['PracticeID'])"
   ]
  },
  {
   "cell_type": "code",
   "execution_count": 70,
   "metadata": {},
   "outputs": [],
   "source": [
    "# Save aggregated data\n",
    "data.to_csv(path + \"processed_data_with_postcodes_GPs.csv\")"
   ]
  },
  {
   "cell_type": "markdown",
   "metadata": {},
   "source": [
    "# Generate Statistics from Prescribing Counts\n",
    "\n",
    "## Percentages At Postcode Level\n",
    "\n",
    "Aggregate observations to postcodes and compute percentages for 'depression', 'alzheimers', 'blood pressure', 'hypertension', 'diabetes', 'cardiovascular disease', 'insomnia', 'addiction', 'social anxiety', and 'loneliness'.\n",
    "\n",
    "## Outlier Removal\n",
    "\n",
    "Should we remove some GPs on the basis that they have very low/high values which might indicate they are not accessible to the general population, and instead represent specialist services?\n",
    "\n",
    "Currently, we won't do this, but it's an advanced task to look into.\n",
    "\n",
    "## Standardise Percentages\n",
    "\n",
    "Should we standardise within time points, or across them? Or standardise with GP practices or across them?\n",
    "\n",
    "Can't standardize within GPs, as can't then compare between GPs.\n",
    "\n",
    "Can't standardise across GPs within years, as can't then compare between years.\n",
    "\n",
    "Can't standardise across GPs across years, as can't then disambiguate changes to rank order over time.\n",
    "\n",
    "<u> First Step </u>\n",
    "\n",
    "Take the average percentage of disease groups within postcodes annually - this is then an annual summary measure of prescribing by postcode. Aggregation entire depends on desired time frame for analysis.\n",
    "\n",
    "NB, this is a mean of percentages - could also calculate an overall percentage by summing monthly counts by year and dividing through by monthly sum of items.\n",
    "\n",
    "<u> Second Step </u>\n",
    "\n",
    "z-score standardise for earliest year observed across GPs. Store mean and standard deviation.\n",
    "\n",
    "z-score standardise subsequent years wrt baseline mean and standard deviation.\n",
    "\n",
    "OR\n",
    "\n",
    "Use min-max normalisation by year (decile normalisation?). This standardises the different percentages to the same range - although in theory they're comparable anyway...\n",
    "\n",
    "## Aggregation and Percentages"
   ]
  },
  {
   "cell_type": "code",
   "execution_count": 71,
   "metadata": {},
   "outputs": [],
   "source": [
    "data = pd.read_csv(path + \"processed_data_with_postcodes_GPs.csv\", index_col = 0)"
   ]
  },
  {
   "cell_type": "code",
   "execution_count": 72,
   "metadata": {},
   "outputs": [
    {
     "data": {
      "text/html": [
       "<div>\n",
       "<style scoped>\n",
       "    .dataframe tbody tr th:only-of-type {\n",
       "        vertical-align: middle;\n",
       "    }\n",
       "\n",
       "    .dataframe tbody tr th {\n",
       "        vertical-align: top;\n",
       "    }\n",
       "\n",
       "    .dataframe thead th {\n",
       "        text-align: right;\n",
       "    }\n",
       "</style>\n",
       "<table border=\"1\" class=\"dataframe\">\n",
       "  <thead>\n",
       "    <tr style=\"text-align: right;\">\n",
       "      <th></th>\n",
       "      <th>PracticeID</th>\n",
       "      <th>depression</th>\n",
       "      <th>alzheimers</th>\n",
       "      <th>blood pressure</th>\n",
       "      <th>hypertension</th>\n",
       "      <th>diabeties</th>\n",
       "      <th>cardiovascular disease</th>\n",
       "      <th>insomnia</th>\n",
       "      <th>addiction</th>\n",
       "      <th>social anxiety</th>\n",
       "      <th>...</th>\n",
       "      <th>Postcode</th>\n",
       "      <th>oseast1m</th>\n",
       "      <th>osnrth1m</th>\n",
       "      <th>lsoa11</th>\n",
       "      <th>msoa11</th>\n",
       "      <th>ru11ind</th>\n",
       "      <th>rgn</th>\n",
       "      <th>laua</th>\n",
       "      <th>imd</th>\n",
       "      <th>Number_of_Patients</th>\n",
       "    </tr>\n",
       "  </thead>\n",
       "  <tbody>\n",
       "    <tr>\n",
       "      <th>1</th>\n",
       "      <td>W00007</td>\n",
       "      <td>970</td>\n",
       "      <td>21</td>\n",
       "      <td>887</td>\n",
       "      <td>892</td>\n",
       "      <td>182</td>\n",
       "      <td>681</td>\n",
       "      <td>79</td>\n",
       "      <td>0</td>\n",
       "      <td>10</td>\n",
       "      <td>...</td>\n",
       "      <td>LL11 3NS</td>\n",
       "      <td>328624.0</td>\n",
       "      <td>351132.0</td>\n",
       "      <td>W01000364</td>\n",
       "      <td>W02000083</td>\n",
       "      <td>D1</td>\n",
       "      <td>W99999999</td>\n",
       "      <td>W06000006</td>\n",
       "      <td>104</td>\n",
       "      <td>7216</td>\n",
       "    </tr>\n",
       "    <tr>\n",
       "      <th>2</th>\n",
       "      <td>W00019</td>\n",
       "      <td>2</td>\n",
       "      <td>0</td>\n",
       "      <td>0</td>\n",
       "      <td>0</td>\n",
       "      <td>0</td>\n",
       "      <td>0</td>\n",
       "      <td>0</td>\n",
       "      <td>0</td>\n",
       "      <td>0</td>\n",
       "      <td>...</td>\n",
       "      <td>CH5 1XS</td>\n",
       "      <td>330760.0</td>\n",
       "      <td>367615.0</td>\n",
       "      <td>W01000335</td>\n",
       "      <td>W02000066</td>\n",
       "      <td>C1</td>\n",
       "      <td>W99999999</td>\n",
       "      <td>W06000005</td>\n",
       "      <td>29</td>\n",
       "      <td>0</td>\n",
       "    </tr>\n",
       "    <tr>\n",
       "      <th>3</th>\n",
       "      <td>W00021</td>\n",
       "      <td>19</td>\n",
       "      <td>0</td>\n",
       "      <td>0</td>\n",
       "      <td>0</td>\n",
       "      <td>0</td>\n",
       "      <td>0</td>\n",
       "      <td>6</td>\n",
       "      <td>0</td>\n",
       "      <td>0</td>\n",
       "      <td>...</td>\n",
       "      <td>NP44 7XX</td>\n",
       "      <td>329326.0</td>\n",
       "      <td>193774.0</td>\n",
       "      <td>W01001504</td>\n",
       "      <td>W02000335</td>\n",
       "      <td>C1</td>\n",
       "      <td>W99999999</td>\n",
       "      <td>W06000020</td>\n",
       "      <td>3</td>\n",
       "      <td>0</td>\n",
       "    </tr>\n",
       "    <tr>\n",
       "      <th>4</th>\n",
       "      <td>W00022</td>\n",
       "      <td>4</td>\n",
       "      <td>0</td>\n",
       "      <td>1</td>\n",
       "      <td>1</td>\n",
       "      <td>0</td>\n",
       "      <td>0</td>\n",
       "      <td>1</td>\n",
       "      <td>0</td>\n",
       "      <td>0</td>\n",
       "      <td>...</td>\n",
       "      <td>NP44 7XX</td>\n",
       "      <td>329326.0</td>\n",
       "      <td>193774.0</td>\n",
       "      <td>W01001504</td>\n",
       "      <td>W02000335</td>\n",
       "      <td>C1</td>\n",
       "      <td>W99999999</td>\n",
       "      <td>W06000020</td>\n",
       "      <td>3</td>\n",
       "      <td>0</td>\n",
       "    </tr>\n",
       "    <tr>\n",
       "      <th>5</th>\n",
       "      <td>W00023</td>\n",
       "      <td>2</td>\n",
       "      <td>0</td>\n",
       "      <td>3</td>\n",
       "      <td>3</td>\n",
       "      <td>0</td>\n",
       "      <td>0</td>\n",
       "      <td>0</td>\n",
       "      <td>1</td>\n",
       "      <td>0</td>\n",
       "      <td>...</td>\n",
       "      <td>NP44 7XX</td>\n",
       "      <td>329326.0</td>\n",
       "      <td>193774.0</td>\n",
       "      <td>W01001504</td>\n",
       "      <td>W02000335</td>\n",
       "      <td>C1</td>\n",
       "      <td>W99999999</td>\n",
       "      <td>W06000020</td>\n",
       "      <td>3</td>\n",
       "      <td>0</td>\n",
       "    </tr>\n",
       "    <tr>\n",
       "      <th>6</th>\n",
       "      <td>W00024</td>\n",
       "      <td>0</td>\n",
       "      <td>0</td>\n",
       "      <td>0</td>\n",
       "      <td>0</td>\n",
       "      <td>0</td>\n",
       "      <td>0</td>\n",
       "      <td>0</td>\n",
       "      <td>0</td>\n",
       "      <td>0</td>\n",
       "      <td>...</td>\n",
       "      <td>NP44 7XX</td>\n",
       "      <td>329326.0</td>\n",
       "      <td>193774.0</td>\n",
       "      <td>W01001504</td>\n",
       "      <td>W02000335</td>\n",
       "      <td>C1</td>\n",
       "      <td>W99999999</td>\n",
       "      <td>W06000020</td>\n",
       "      <td>3</td>\n",
       "      <td>0</td>\n",
       "    </tr>\n",
       "    <tr>\n",
       "      <th>7</th>\n",
       "      <td>W00030</td>\n",
       "      <td>50</td>\n",
       "      <td>0</td>\n",
       "      <td>0</td>\n",
       "      <td>0</td>\n",
       "      <td>0</td>\n",
       "      <td>0</td>\n",
       "      <td>12</td>\n",
       "      <td>71</td>\n",
       "      <td>0</td>\n",
       "      <td>...</td>\n",
       "      <td>SA72 6SY</td>\n",
       "      <td>195752.0</td>\n",
       "      <td>203509.0</td>\n",
       "      <td>W01000603</td>\n",
       "      <td>W02000138</td>\n",
       "      <td>D1</td>\n",
       "      <td>W99999999</td>\n",
       "      <td>W06000009</td>\n",
       "      <td>-65</td>\n",
       "      <td>0</td>\n",
       "    </tr>\n",
       "    <tr>\n",
       "      <th>8</th>\n",
       "      <td>W00031</td>\n",
       "      <td>9</td>\n",
       "      <td>0</td>\n",
       "      <td>3</td>\n",
       "      <td>3</td>\n",
       "      <td>2</td>\n",
       "      <td>3</td>\n",
       "      <td>4</td>\n",
       "      <td>0</td>\n",
       "      <td>0</td>\n",
       "      <td>...</td>\n",
       "      <td>LL18 5UJ</td>\n",
       "      <td>300309.0</td>\n",
       "      <td>376019.0</td>\n",
       "      <td>W01000191</td>\n",
       "      <td>W02000050</td>\n",
       "      <td>D1</td>\n",
       "      <td>W99999999</td>\n",
       "      <td>W06000004</td>\n",
       "      <td>-126</td>\n",
       "      <td>0</td>\n",
       "    </tr>\n",
       "    <tr>\n",
       "      <th>9</th>\n",
       "      <td>W00032</td>\n",
       "      <td>0</td>\n",
       "      <td>0</td>\n",
       "      <td>2</td>\n",
       "      <td>2</td>\n",
       "      <td>0</td>\n",
       "      <td>1</td>\n",
       "      <td>0</td>\n",
       "      <td>1</td>\n",
       "      <td>0</td>\n",
       "      <td>...</td>\n",
       "      <td>LL18 5UJ</td>\n",
       "      <td>300309.0</td>\n",
       "      <td>376019.0</td>\n",
       "      <td>W01000191</td>\n",
       "      <td>W02000050</td>\n",
       "      <td>D1</td>\n",
       "      <td>W99999999</td>\n",
       "      <td>W06000004</td>\n",
       "      <td>-126</td>\n",
       "      <td>0</td>\n",
       "    </tr>\n",
       "  </tbody>\n",
       "</table>\n",
       "<p>9 rows × 28 columns</p>\n",
       "</div>"
      ],
      "text/plain": [
       "  PracticeID  depression  alzheimers  blood pressure  hypertension  diabeties  \\\n",
       "1     W00007         970          21             887           892        182   \n",
       "2     W00019           2           0               0             0          0   \n",
       "3     W00021          19           0               0             0          0   \n",
       "4     W00022           4           0               1             1          0   \n",
       "5     W00023           2           0               3             3          0   \n",
       "6     W00024           0           0               0             0          0   \n",
       "7     W00030          50           0               0             0          0   \n",
       "8     W00031           9           0               3             3          2   \n",
       "9     W00032           0           0               2             2          0   \n",
       "\n",
       "   cardiovascular disease  insomnia  addiction  social anxiety  ...  Postcode  \\\n",
       "1                     681        79          0              10  ...  LL11 3NS   \n",
       "2                       0         0          0               0  ...   CH5 1XS   \n",
       "3                       0         6          0               0  ...  NP44 7XX   \n",
       "4                       0         1          0               0  ...  NP44 7XX   \n",
       "5                       0         0          1               0  ...  NP44 7XX   \n",
       "6                       0         0          0               0  ...  NP44 7XX   \n",
       "7                       0        12         71               0  ...  SA72 6SY   \n",
       "8                       3         4          0               0  ...  LL18 5UJ   \n",
       "9                       1         0          1               0  ...  LL18 5UJ   \n",
       "\n",
       "   oseast1m  osnrth1m     lsoa11     msoa11 ru11ind        rgn       laua  \\\n",
       "1  328624.0  351132.0  W01000364  W02000083      D1  W99999999  W06000006   \n",
       "2  330760.0  367615.0  W01000335  W02000066      C1  W99999999  W06000005   \n",
       "3  329326.0  193774.0  W01001504  W02000335      C1  W99999999  W06000020   \n",
       "4  329326.0  193774.0  W01001504  W02000335      C1  W99999999  W06000020   \n",
       "5  329326.0  193774.0  W01001504  W02000335      C1  W99999999  W06000020   \n",
       "6  329326.0  193774.0  W01001504  W02000335      C1  W99999999  W06000020   \n",
       "7  195752.0  203509.0  W01000603  W02000138      D1  W99999999  W06000009   \n",
       "8  300309.0  376019.0  W01000191  W02000050      D1  W99999999  W06000004   \n",
       "9  300309.0  376019.0  W01000191  W02000050      D1  W99999999  W06000004   \n",
       "\n",
       "   imd  Number_of_Patients  \n",
       "1  104                7216  \n",
       "2   29                   0  \n",
       "3    3                   0  \n",
       "4    3                   0  \n",
       "5    3                   0  \n",
       "6    3                   0  \n",
       "7  -65                   0  \n",
       "8 -126                   0  \n",
       "9 -126                   0  \n",
       "\n",
       "[9 rows x 28 columns]"
      ]
     },
     "execution_count": 72,
     "metadata": {},
     "output_type": "execute_result"
    }
   ],
   "source": [
    "data[1:10]"
   ]
  },
  {
   "cell_type": "code",
   "execution_count": 73,
   "metadata": {},
   "outputs": [],
   "source": [
    "# Make dictionary for aggregation\n",
    "# counts to sum\n",
    "agg_cols = {col : 'sum' for col in drug_data['illness'].unique()}\n",
    "agg_cols[col_items] = 'sum'\n",
    "agg_cols['loneliness'] = 'sum'\n",
    "agg_cols['Number_of_Patients'] = 'sum'\n",
    "\n",
    "# Other data to preserve\n",
    "for key in ['HB','Street','Area','Posttown','Postcode',\n",
    "            'oseast1m', 'osnrth1m', 'lsoa11', 'msoa11','ru11ind', 'rgn', 'laua', 'imd']:\n",
    "    agg_cols[key] = 'first'"
   ]
  },
  {
   "cell_type": "code",
   "execution_count": 74,
   "metadata": {},
   "outputs": [],
   "source": [
    "# Do aggregation and produce counts by postcode by date.\n",
    "data = data.groupby(['pcstrip','Date'], as_index=False).agg(agg_cols)"
   ]
  },
  {
   "cell_type": "code",
   "execution_count": 75,
   "metadata": {},
   "outputs": [],
   "source": [
    "# Generate percentages\n",
    "perc_cols = drug_data['illness'].unique()\n",
    "target_cols = perc_cols + '_perc'\n",
    "\n",
    "# Percentages for discrete illness groups\n",
    "data[target_cols] = data[perc_cols].divide(data[col_items], axis=0) * 100\n",
    "\n",
    "# Overall percentage for loneliness realted disease prescribing\n",
    "data['loneliness_perc'] = data['loneliness'].divide(data[col_items], axis=0) * 100"
   ]
  },
  {
   "cell_type": "markdown",
   "metadata": {},
   "source": [
    "## Standardisation (z-scores)"
   ]
  },
  {
   "cell_type": "code",
   "execution_count": 76,
   "metadata": {},
   "outputs": [
    {
     "data": {
      "text/plain": [
       "pcstrip                         object\n",
       "Date                             int64\n",
       "depression                       int64\n",
       "alzheimers                       int64\n",
       "blood pressure                   int64\n",
       "hypertension                     int64\n",
       "diabeties                        int64\n",
       "cardiovascular disease           int64\n",
       "insomnia                         int64\n",
       "addiction                        int64\n",
       "social anxiety                   int64\n",
       "Items                            int64\n",
       "loneliness                       int64\n",
       "Number_of_Patients               int64\n",
       "HB                              object\n",
       "Street                          object\n",
       "Area                            object\n",
       "Posttown                        object\n",
       "Postcode                        object\n",
       "oseast1m                       float64\n",
       "osnrth1m                       float64\n",
       "lsoa11                          object\n",
       "msoa11                          object\n",
       "ru11ind                         object\n",
       "rgn                             object\n",
       "laua                            object\n",
       "imd                              int64\n",
       "depression_perc                float64\n",
       "alzheimers_perc                float64\n",
       "blood pressure_perc            float64\n",
       "hypertension_perc              float64\n",
       "diabeties_perc                 float64\n",
       "cardiovascular disease_perc    float64\n",
       "insomnia_perc                  float64\n",
       "addiction_perc                 float64\n",
       "social anxiety_perc            float64\n",
       "loneliness_perc                float64\n",
       "dtype: object"
      ]
     },
     "execution_count": 76,
     "metadata": {},
     "output_type": "execute_result"
    }
   ],
   "source": [
    "data.dtypes"
   ]
  },
  {
   "cell_type": "code",
   "execution_count": 77,
   "metadata": {},
   "outputs": [],
   "source": [
    "# Firstly aggregate percentages by postcodes by year.\n",
    "#data['Year'] = data['Date'].dt.year\n",
    "data['Year'] = 2018\n",
    "\n",
    "# Aggregation\n",
    "cols = {'Number_of_Patients': 'mean', 'HB': 'first', 'oseast1m': 'first', 'osnrth1m': 'first',\n",
    "        'lsoa11': 'first', 'msoa11': 'first', 'ru11ind': 'first', 'rgn': 'first', 'laua':'first', 'imd': 'first',\n",
    "        'depression_perc': 'mean', 'alzheimers_perc': 'mean', 'blood pressure_perc': 'mean', 'hypertension_perc': 'mean',\n",
    "        'diabeties_perc': 'mean', 'cardiovascular disease_perc': 'mean', 'insomnia_perc': 'mean', 'addiction_perc': 'mean',\n",
    "        'social anxiety_perc': 'mean', 'loneliness_perc': 'mean'}\n",
    "\n",
    "data = data.groupby(['pcstrip','Year'], as_index=False).agg(cols)"
   ]
  },
  {
   "cell_type": "code",
   "execution_count": 78,
   "metadata": {},
   "outputs": [],
   "source": [
    "# The mean value returns a value broadly in the centre of the distribution of respective disease classes.\n",
    "# Therefore we'll go with an un-truncated arithmetic mean.\n",
    "# Can always revisit this assumption later.\n",
    "\n",
    "per_cols = ['depression_perc', 'alzheimers_perc', 'blood pressure_perc', 'hypertension_perc', \n",
    "            'diabeties_perc', 'cardiovascular disease_perc', 'insomnia_perc', 'addiction_perc',\n",
    "            'social anxiety_perc', 'loneliness_perc']\n",
    "\n",
    "# Get mean and std for baseline (2016)\n",
    "mean_std = data[data['Year'] == 2018][per_cols].agg(['mean','std'])"
   ]
  },
  {
   "cell_type": "code",
   "execution_count": 79,
   "metadata": {},
   "outputs": [],
   "source": [
    "# Make new column names.\n",
    "std_cols = [col[:-4] + 'zscore' for col in per_cols]\n",
    "\n",
    "zscores = []    \n",
    "# z-score standardise for each year by baseline mean and std \n",
    "for year in [2016,2017,2018]:\n",
    "    zscores.append((data.loc[data['Year'] == year, per_cols] - mean_std.loc['mean', per_cols]) / mean_std.loc['std', per_cols])\n",
    "\n",
    "zscores = pd.concat(zscores).sort_index()\n",
    "data[std_cols] = zscores"
   ]
  },
  {
   "cell_type": "code",
   "execution_count": 80,
   "metadata": {},
   "outputs": [
    {
     "data": {
      "image/png": "[encoded data removed]",
      "text/plain": [
       "<Figure size 1008x432 with 3 Axes>"
      ]
     },
     "metadata": {
      "needs_background": "light"
     },
     "output_type": "display_data"
    }
   ],
   "source": [
    "# plot zscores for loneliness\n",
    "f, [ax1, ax2, ax3] = plt.subplots(1,3, figsize = (14,6), sharey = True)\n",
    "\n",
    "# Note that there appears to be increasing variation in lonelines prescribing over time.\n",
    "# These means are comparable as standardised using 2016 mean and std.\n",
    "# data[data['Year'] == 2016]['loneliness_zscore'].hist(bins=100, ax = ax1)\n",
    "# data[data['Year'] == 2017]['loneliness_zscore'].hist(bins=100, ax = ax2)\n",
    "data[data['Year'] == 2018]['loneliness_zscore'].hist(bins=100, ax = ax3);"
   ]
  },
  {
   "cell_type": "code",
   "execution_count": 81,
   "metadata": {},
   "outputs": [],
   "source": [
    "# Save aggregated data\n",
    "data.to_csv(path + \"processed_data_with_postcodes_GPs_stats.csv\")"
   ]
  },
  {
   "cell_type": "markdown",
   "metadata": {},
   "source": [
    "# Create Loneliness Variable\n",
    "\n",
    "The actual loneliness variable we work with is the sum of the standardised scores of: depression, alzheimers, hypertension, insomnia, addiction and social anxiety, for each year of interest.\n",
    "\n",
    "This means that the loneliness variable is actually an equally weighted index of the above domains."
   ]
  },
  {
   "cell_type": "code",
   "execution_count": 82,
   "metadata": {},
   "outputs": [],
   "source": [
    "# sum function ignores NAs\n",
    "data['loneills'] =  data[['depression_zscore', 'alzheimers_zscore', 'hypertension_zscore', 'insomnia_zscore',\n",
    "                          'addiction_zscore','social anxiety_zscore']].sum(axis=1)"
   ]
  },
  {
   "cell_type": "code",
   "execution_count": 83,
   "metadata": {},
   "outputs": [
    {
     "data": {
      "image/png": "[encoded data removed]",
      "text/plain": [
       "<Figure size 1008x432 with 3 Axes>"
      ]
     },
     "metadata": {
      "needs_background": "light"
     },
     "output_type": "display_data"
    }
   ],
   "source": [
    "# plot zscores for loneills\n",
    "f, [ax1, ax2, ax3] = plt.subplots(1,3, figsize = (14,6), sharey = True)\n",
    "\n",
    "# Note that there appears to be increasing variation in lonelines prescribing over time.\n",
    "data[data['Year'] == 2016]['loneills'].hist(bins=100, ax = ax1)\n",
    "data[data['Year'] == 2017]['loneills'].hist(bins=100, ax = ax2)\n",
    "data[data['Year'] == 2018]['loneills'].hist(bins=100, ax = ax3);"
   ]
  },
  {
   "cell_type": "code",
   "execution_count": 84,
   "metadata": {},
   "outputs": [],
   "source": [
    "# Save aggregated data\n",
    "data.to_csv(path + \"final_data.csv\")"
   ]
  },
  {
   "cell_type": "code",
   "execution_count": null,
   "metadata": {
    "collapsed": true,
    "jupyter": {
     "outputs_hidden": true
    }
   },
   "outputs": [],
   "source": []
  }
 ],
 "metadata": {
  "kernelspec": {
   "display_name": "Python 3",
   "language": "python",
   "name": "python3"
  },
  "language_info": {
   "codemirror_mode": {
    "name": "ipython",
    "version": 3
   },
   "file_extension": ".py",
   "mimetype": "text/x-python",
   "name": "python",
   "nbconvert_exporter": "python",
   "pygments_lexer": "ipython3",
   "version": "3.8.5"
  }
 },
 "nbformat": 4,
 "nbformat_minor": 4
}
