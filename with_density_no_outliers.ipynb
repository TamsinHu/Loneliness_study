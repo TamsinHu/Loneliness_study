{
 "cells": [
  {
   "cell_type": "markdown",
   "metadata": {},
   "source": [
    "# Loneliness, Deprivation and Population Density\n",
    "\n",
    "\n",
    "## Read in IMD and loneliness index data for England"
   ]
  },
  {
   "cell_type": "code",
   "execution_count": 12,
   "metadata": {},
   "outputs": [],
   "source": [
    "import pandas as pd\n",
    "import numpy as np\n",
    "import seaborn as sns"
   ]
  },
  {
   "cell_type": "code",
   "execution_count": 20,
   "metadata": {},
   "outputs": [],
   "source": [
    "loneliness_imd = pd.read_csv('england/data_without_outliers.csv')"
   ]
  },
  {
   "cell_type": "code",
   "execution_count": 21,
   "outputs": [
    {
     "data": {
      "text/plain": "      lsoa11  year  loneills  lsoa_code                  lsoa_name  \\\n0  E01000017  2015 -0.972582  E01000017  Barking and Dagenham 009C   \n1  E01000021  2015 -3.496225  E01000021  Barking and Dagenham 008A   \n2  E01000025  2015 -0.555496  E01000025  Barking and Dagenham 008E   \n3  E01000027  2015  0.733600  E01000027  Barking and Dagenham 001A   \n4  E01000031  2015  1.767929  E01000031  Barking and Dagenham 002A   \n\n  district_code         district_name  imd_score  imd_rank  imd_decile  ...  \\\n0     E09000002  Barking and Dagenham     40.563    4357.0         2.0  ...   \n1     E09000002  Barking and Dagenham     40.821    4273.0         2.0  ...   \n2     E09000002  Barking and Dagenham     35.995    5772.0         2.0  ...   \n3     E09000002  Barking and Dagenham     41.997    3924.0         2.0  ...   \n4     E09000002  Barking and Dagenham     25.078   10820.0         4.0  ...   \n\n   indoor_sub_rank  indoor_sub_decile  outdoor_sub_score  outdoor_sub_rank  \\\n0          11830.0                4.0              0.525            8498.0   \n1           3282.0                1.0              0.511            8670.0   \n2          11134.0                4.0              0.574            7918.0   \n3          16033.0                5.0              0.145           13786.0   \n4          13998.0                5.0              0.814            5475.0   \n\n   outdoor_sub_decile  total_population  aged_under_15_population  \\\n0                 3.0            1622.0                     409.0   \n1                 3.0            1601.0                     401.0   \n2                 3.0            1602.0                     385.0   \n3                 5.0            1728.0                     479.0   \n4                 2.0            1625.0                     343.0   \n\n   aged_16-59_population  aged_over_60_population  working_age_population  \n0                  991.0                    222.0                  957.00  \n1                 1021.0                    179.0                 1004.25  \n2                 1000.0                    217.0                  987.50  \n3                  964.0                    285.0                  946.75  \n4                  965.0                    317.0                  972.25  \n\n[5 rows x 60 columns]",
      "text/html": "<div>\n<style scoped>\n    .dataframe tbody tr th:only-of-type {\n        vertical-align: middle;\n    }\n\n    .dataframe tbody tr th {\n        vertical-align: top;\n    }\n\n    .dataframe thead th {\n        text-align: right;\n    }\n</style>\n<table border=\"1\" class=\"dataframe\">\n  <thead>\n    <tr style=\"text-align: right;\">\n      <th></th>\n      <th>lsoa11</th>\n      <th>year</th>\n      <th>loneills</th>\n      <th>lsoa_code</th>\n      <th>lsoa_name</th>\n      <th>district_code</th>\n      <th>district_name</th>\n      <th>imd_score</th>\n      <th>imd_rank</th>\n      <th>imd_decile</th>\n      <th>...</th>\n      <th>indoor_sub_rank</th>\n      <th>indoor_sub_decile</th>\n      <th>outdoor_sub_score</th>\n      <th>outdoor_sub_rank</th>\n      <th>outdoor_sub_decile</th>\n      <th>total_population</th>\n      <th>aged_under_15_population</th>\n      <th>aged_16-59_population</th>\n      <th>aged_over_60_population</th>\n      <th>working_age_population</th>\n    </tr>\n  </thead>\n  <tbody>\n    <tr>\n      <th>0</th>\n      <td>E01000017</td>\n      <td>2015</td>\n      <td>-0.972582</td>\n      <td>E01000017</td>\n      <td>Barking and Dagenham 009C</td>\n      <td>E09000002</td>\n      <td>Barking and Dagenham</td>\n      <td>40.563</td>\n      <td>4357.0</td>\n      <td>2.0</td>\n      <td>...</td>\n      <td>11830.0</td>\n      <td>4.0</td>\n      <td>0.525</td>\n      <td>8498.0</td>\n      <td>3.0</td>\n      <td>1622.0</td>\n      <td>409.0</td>\n      <td>991.0</td>\n      <td>222.0</td>\n      <td>957.00</td>\n    </tr>\n    <tr>\n      <th>1</th>\n      <td>E01000021</td>\n      <td>2015</td>\n      <td>-3.496225</td>\n      <td>E01000021</td>\n      <td>Barking and Dagenham 008A</td>\n      <td>E09000002</td>\n      <td>Barking and Dagenham</td>\n      <td>40.821</td>\n      <td>4273.0</td>\n      <td>2.0</td>\n      <td>...</td>\n      <td>3282.0</td>\n      <td>1.0</td>\n      <td>0.511</td>\n      <td>8670.0</td>\n      <td>3.0</td>\n      <td>1601.0</td>\n      <td>401.0</td>\n      <td>1021.0</td>\n      <td>179.0</td>\n      <td>1004.25</td>\n    </tr>\n    <tr>\n      <th>2</th>\n      <td>E01000025</td>\n      <td>2015</td>\n      <td>-0.555496</td>\n      <td>E01000025</td>\n      <td>Barking and Dagenham 008E</td>\n      <td>E09000002</td>\n      <td>Barking and Dagenham</td>\n      <td>35.995</td>\n      <td>5772.0</td>\n      <td>2.0</td>\n      <td>...</td>\n      <td>11134.0</td>\n      <td>4.0</td>\n      <td>0.574</td>\n      <td>7918.0</td>\n      <td>3.0</td>\n      <td>1602.0</td>\n      <td>385.0</td>\n      <td>1000.0</td>\n      <td>217.0</td>\n      <td>987.50</td>\n    </tr>\n    <tr>\n      <th>3</th>\n      <td>E01000027</td>\n      <td>2015</td>\n      <td>0.733600</td>\n      <td>E01000027</td>\n      <td>Barking and Dagenham 001A</td>\n      <td>E09000002</td>\n      <td>Barking and Dagenham</td>\n      <td>41.997</td>\n      <td>3924.0</td>\n      <td>2.0</td>\n      <td>...</td>\n      <td>16033.0</td>\n      <td>5.0</td>\n      <td>0.145</td>\n      <td>13786.0</td>\n      <td>5.0</td>\n      <td>1728.0</td>\n      <td>479.0</td>\n      <td>964.0</td>\n      <td>285.0</td>\n      <td>946.75</td>\n    </tr>\n    <tr>\n      <th>4</th>\n      <td>E01000031</td>\n      <td>2015</td>\n      <td>1.767929</td>\n      <td>E01000031</td>\n      <td>Barking and Dagenham 002A</td>\n      <td>E09000002</td>\n      <td>Barking and Dagenham</td>\n      <td>25.078</td>\n      <td>10820.0</td>\n      <td>4.0</td>\n      <td>...</td>\n      <td>13998.0</td>\n      <td>5.0</td>\n      <td>0.814</td>\n      <td>5475.0</td>\n      <td>2.0</td>\n      <td>1625.0</td>\n      <td>343.0</td>\n      <td>965.0</td>\n      <td>317.0</td>\n      <td>972.25</td>\n    </tr>\n  </tbody>\n</table>\n<p>5 rows × 60 columns</p>\n</div>"
     },
     "execution_count": 21,
     "metadata": {},
     "output_type": "execute_result"
    }
   ],
   "source": [
    "loneliness_imd.drop('Unnamed: 0', axis=1, inplace=True)\n",
    "loneliness_imd.head()"
   ],
   "metadata": {
    "collapsed": false,
    "pycharm": {
     "name": "#%%\n"
    }
   }
  },
  {
   "cell_type": "markdown",
   "metadata": {},
   "source": [
    "## introduce population density data\n"
   ]
  },
  {
   "cell_type": "code",
   "execution_count": 22,
   "metadata": {},
   "outputs": [],
   "source": [
    "pop_density = pd.read_csv('england/Population_Density.csv')\n",
    "pop_density = pop_density.rename(columns={'Code':'lsoa11'})"
   ]
  },
  {
   "cell_type": "code",
   "execution_count": 23,
   "metadata": {},
   "outputs": [],
   "source": [
    "loneliness_imd.drop(columns='lsoa_code', inplace=True) #this data is duplicate"
   ]
  },
  {
   "cell_type": "code",
   "execution_count": 24,
   "metadata": {},
   "outputs": [],
   "source": [
    "loneliness_imd2 = pd.merge(left=pop_density[['lsoa11', 'People per Sq Km' ]], right=loneliness_imd, on='lsoa11')"
   ]
  },
  {
   "cell_type": "code",
   "execution_count": 25,
   "metadata": {},
   "outputs": [],
   "source": [
    "loneliness_imd2 = loneliness_imd2.rename(columns={'People per Sq Km': 'population_density'})"
   ]
  },
  {
   "cell_type": "code",
   "execution_count": 28,
   "metadata": {},
   "outputs": [
    {
     "data": {
      "text/plain": "      lsoa11 population_density  year  loneills           lsoa_name  \\\n0  E01020636              1,886  2015  0.651901  County Durham 001C   \n1  E01020629              3,270  2015  0.299419  County Durham 003C   \n2  E01020655                242  2015 -0.231131  County Durham 003D   \n3  E01020661              2,193  2015 -1.047568  County Durham 004A   \n4  E01020653                334  2015  0.588288  County Durham 006D   \n\n  district_code  district_name  imd_score  imd_rank  imd_decile  ...  \\\n0     E06000047  County Durham     21.632   12979.0         4.0  ...   \n1     E06000047  County Durham     19.084   14979.0         5.0  ...   \n2     E06000047  County Durham     11.477   22411.0         7.0  ...   \n3     E06000047  County Durham     27.441    9495.0         3.0  ...   \n4     E06000047  County Durham     27.072    9682.0         3.0  ...   \n\n   indoor_sub_rank  indoor_sub_decile  outdoor_sub_score  outdoor_sub_rank  \\\n0          32265.0               10.0             -1.482           31684.0   \n1          25589.0                8.0             -1.215           30432.0   \n2          29921.0               10.0             -1.748           32368.0   \n3          19737.0                7.0             -0.446           22845.0   \n4          28959.0                9.0             -1.269           30751.0   \n\n   outdoor_sub_decile  total_population  aged_under_15_population  \\\n0                10.0            1704.0                     306.0   \n1                10.0            1488.0                     304.0   \n2                10.0            2039.0                     333.0   \n3                 7.0            1841.0                     316.0   \n4                10.0            1541.0                     281.0   \n\n   aged_16-59_population  aged_over_60_population  working_age_population  \n0                  956.0                    442.0                  976.50  \n1                  836.0                    348.0                  839.25  \n2                 1115.0                    591.0                 1142.50  \n3                 1046.0                    479.0                 1073.50  \n4                  858.0                    402.0                  861.00  \n\n[5 rows x 60 columns]",
      "text/html": "<div>\n<style scoped>\n    .dataframe tbody tr th:only-of-type {\n        vertical-align: middle;\n    }\n\n    .dataframe tbody tr th {\n        vertical-align: top;\n    }\n\n    .dataframe thead th {\n        text-align: right;\n    }\n</style>\n<table border=\"1\" class=\"dataframe\">\n  <thead>\n    <tr style=\"text-align: right;\">\n      <th></th>\n      <th>lsoa11</th>\n      <th>population_density</th>\n      <th>year</th>\n      <th>loneills</th>\n      <th>lsoa_name</th>\n      <th>district_code</th>\n      <th>district_name</th>\n      <th>imd_score</th>\n      <th>imd_rank</th>\n      <th>imd_decile</th>\n      <th>...</th>\n      <th>indoor_sub_rank</th>\n      <th>indoor_sub_decile</th>\n      <th>outdoor_sub_score</th>\n      <th>outdoor_sub_rank</th>\n      <th>outdoor_sub_decile</th>\n      <th>total_population</th>\n      <th>aged_under_15_population</th>\n      <th>aged_16-59_population</th>\n      <th>aged_over_60_population</th>\n      <th>working_age_population</th>\n    </tr>\n  </thead>\n  <tbody>\n    <tr>\n      <th>0</th>\n      <td>E01020636</td>\n      <td>1,886</td>\n      <td>2015</td>\n      <td>0.651901</td>\n      <td>County Durham 001C</td>\n      <td>E06000047</td>\n      <td>County Durham</td>\n      <td>21.632</td>\n      <td>12979.0</td>\n      <td>4.0</td>\n      <td>...</td>\n      <td>32265.0</td>\n      <td>10.0</td>\n      <td>-1.482</td>\n      <td>31684.0</td>\n      <td>10.0</td>\n      <td>1704.0</td>\n      <td>306.0</td>\n      <td>956.0</td>\n      <td>442.0</td>\n      <td>976.50</td>\n    </tr>\n    <tr>\n      <th>1</th>\n      <td>E01020629</td>\n      <td>3,270</td>\n      <td>2015</td>\n      <td>0.299419</td>\n      <td>County Durham 003C</td>\n      <td>E06000047</td>\n      <td>County Durham</td>\n      <td>19.084</td>\n      <td>14979.0</td>\n      <td>5.0</td>\n      <td>...</td>\n      <td>25589.0</td>\n      <td>8.0</td>\n      <td>-1.215</td>\n      <td>30432.0</td>\n      <td>10.0</td>\n      <td>1488.0</td>\n      <td>304.0</td>\n      <td>836.0</td>\n      <td>348.0</td>\n      <td>839.25</td>\n    </tr>\n    <tr>\n      <th>2</th>\n      <td>E01020655</td>\n      <td>242</td>\n      <td>2015</td>\n      <td>-0.231131</td>\n      <td>County Durham 003D</td>\n      <td>E06000047</td>\n      <td>County Durham</td>\n      <td>11.477</td>\n      <td>22411.0</td>\n      <td>7.0</td>\n      <td>...</td>\n      <td>29921.0</td>\n      <td>10.0</td>\n      <td>-1.748</td>\n      <td>32368.0</td>\n      <td>10.0</td>\n      <td>2039.0</td>\n      <td>333.0</td>\n      <td>1115.0</td>\n      <td>591.0</td>\n      <td>1142.50</td>\n    </tr>\n    <tr>\n      <th>3</th>\n      <td>E01020661</td>\n      <td>2,193</td>\n      <td>2015</td>\n      <td>-1.047568</td>\n      <td>County Durham 004A</td>\n      <td>E06000047</td>\n      <td>County Durham</td>\n      <td>27.441</td>\n      <td>9495.0</td>\n      <td>3.0</td>\n      <td>...</td>\n      <td>19737.0</td>\n      <td>7.0</td>\n      <td>-0.446</td>\n      <td>22845.0</td>\n      <td>7.0</td>\n      <td>1841.0</td>\n      <td>316.0</td>\n      <td>1046.0</td>\n      <td>479.0</td>\n      <td>1073.50</td>\n    </tr>\n    <tr>\n      <th>4</th>\n      <td>E01020653</td>\n      <td>334</td>\n      <td>2015</td>\n      <td>0.588288</td>\n      <td>County Durham 006D</td>\n      <td>E06000047</td>\n      <td>County Durham</td>\n      <td>27.072</td>\n      <td>9682.0</td>\n      <td>3.0</td>\n      <td>...</td>\n      <td>28959.0</td>\n      <td>9.0</td>\n      <td>-1.269</td>\n      <td>30751.0</td>\n      <td>10.0</td>\n      <td>1541.0</td>\n      <td>281.0</td>\n      <td>858.0</td>\n      <td>402.0</td>\n      <td>861.00</td>\n    </tr>\n  </tbody>\n</table>\n<p>5 rows × 60 columns</p>\n</div>"
     },
     "execution_count": 28,
     "metadata": {},
     "output_type": "execute_result"
    }
   ],
   "source": [
    "loneliness_imd2.head()"
   ]
  },
  {
   "cell_type": "code",
   "execution_count": 29,
   "metadata": {},
   "outputs": [
    {
     "name": "stdout",
     "output_type": "stream",
     "text": [
      "(4944, 60) (4944, 59)\n"
     ]
    }
   ],
   "source": [
    "# check shape\n",
    "       #original.               #with population density\n",
    "print(loneliness_imd2.shape , loneliness_imd.shape)"
   ]
  },
  {
   "cell_type": "code",
   "execution_count": 38,
   "metadata": {},
   "outputs": [],
   "source": [
    "#loneliness_imd also has population density column now :)\n"
   ]
  },
  {
   "cell_type": "code",
   "execution_count": 30,
   "metadata": {},
   "outputs": [],
   "source": [
    "#save to csv\n",
    "loneliness_imd2.to_csv('england/with_density_no_outliers.csv')"
   ]
  },
  {
   "cell_type": "code",
   "execution_count": null,
   "outputs": [],
   "source": [],
   "metadata": {
    "collapsed": false,
    "pycharm": {
     "name": "#%%\n"
    }
   }
  }
 ],
 "metadata": {
  "kernelspec": {
   "display_name": "Python 3",
   "language": "python",
   "name": "python3"
  },
  "language_info": {
   "codemirror_mode": {
    "name": "ipython",
    "version": 3
   },
   "file_extension": ".py",
   "mimetype": "text/x-python",
   "name": "python",
   "nbconvert_exporter": "python",
   "pygments_lexer": "ipython3",
   "version": "3.8.5"
  }
 },
 "nbformat": 4,
 "nbformat_minor": 5
}